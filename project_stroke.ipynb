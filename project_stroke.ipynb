{
 "cells": [
  {
   "cell_type": "code",
   "execution_count": 1,
   "id": "b3755704",
   "metadata": {},
   "outputs": [],
   "source": [
    "# Remove the FutureWarnings:\n",
    "import warnings\n",
    "warnings.simplefilter(action='ignore', category=FutureWarning)"
   ]
  },
  {
   "cell_type": "code",
   "execution_count": 162,
   "id": "82f5fb32",
   "metadata": {},
   "outputs": [],
   "source": [
    "import numpy as np\n",
    "import pandas as pd\n",
    "\n",
    "import matplotlib.pyplot as plt\n",
    "import seaborn as sns\n",
    "import plotly.express as px\n",
    "\n",
    "from time import process_time\n",
    "\n",
    "from sklearn.model_selection import StratifiedKFold\n",
    "\n",
    "from imblearn.over_sampling import SMOTE\n",
    "\n",
    "from sklearn.linear_model import LogisticRegression\n",
    "from sklearn.ensemble import RandomForestClassifier\n",
    "from sklearn.neural_network import MLPClassifier\n",
    "from sklearn.svm import SVC\n",
    "from sklearn.metrics import confusion_matrix, recall_score, precision_score, accuracy_score, f1_score, classification_report"
   ]
  },
  {
   "cell_type": "markdown",
   "id": "ab4a64f2",
   "metadata": {},
   "source": [
    "# 1. The dataset"
   ]
  },
  {
   "cell_type": "markdown",
   "id": "b439be94",
   "metadata": {},
   "source": [
    "## 1.1 Read and display"
   ]
  },
  {
   "cell_type": "code",
   "execution_count": 3,
   "id": "3e105443",
   "metadata": {},
   "outputs": [],
   "source": [
    "df = pd.read_csv('/home/joanne/perso/Rokkasho/DSTI/lessons/module_02/machineLearningPython/project/stroke_data.csv', sep=',', index_col='id')"
   ]
  },
  {
   "cell_type": "code",
   "execution_count": 4,
   "id": "9edc04ad",
   "metadata": {},
   "outputs": [
    {
     "data": {
      "text/html": [
       "<div>\n",
       "<style scoped>\n",
       "    .dataframe tbody tr th:only-of-type {\n",
       "        vertical-align: middle;\n",
       "    }\n",
       "\n",
       "    .dataframe tbody tr th {\n",
       "        vertical-align: top;\n",
       "    }\n",
       "\n",
       "    .dataframe thead th {\n",
       "        text-align: right;\n",
       "    }\n",
       "</style>\n",
       "<table border=\"1\" class=\"dataframe\">\n",
       "  <thead>\n",
       "    <tr style=\"text-align: right;\">\n",
       "      <th></th>\n",
       "      <th>gender</th>\n",
       "      <th>age</th>\n",
       "      <th>hypertension</th>\n",
       "      <th>heart_disease</th>\n",
       "      <th>ever_married</th>\n",
       "      <th>work_type</th>\n",
       "      <th>Residence_type</th>\n",
       "      <th>avg_glucose_level</th>\n",
       "      <th>bmi</th>\n",
       "      <th>smoking_status</th>\n",
       "      <th>stroke</th>\n",
       "    </tr>\n",
       "    <tr>\n",
       "      <th>id</th>\n",
       "      <th></th>\n",
       "      <th></th>\n",
       "      <th></th>\n",
       "      <th></th>\n",
       "      <th></th>\n",
       "      <th></th>\n",
       "      <th></th>\n",
       "      <th></th>\n",
       "      <th></th>\n",
       "      <th></th>\n",
       "      <th></th>\n",
       "    </tr>\n",
       "  </thead>\n",
       "  <tbody>\n",
       "    <tr>\n",
       "      <th>9046</th>\n",
       "      <td>Male</td>\n",
       "      <td>67.0</td>\n",
       "      <td>0</td>\n",
       "      <td>1</td>\n",
       "      <td>Yes</td>\n",
       "      <td>Private</td>\n",
       "      <td>Urban</td>\n",
       "      <td>228.69</td>\n",
       "      <td>36.6</td>\n",
       "      <td>formerly smoked</td>\n",
       "      <td>1</td>\n",
       "    </tr>\n",
       "    <tr>\n",
       "      <th>51676</th>\n",
       "      <td>Female</td>\n",
       "      <td>61.0</td>\n",
       "      <td>0</td>\n",
       "      <td>0</td>\n",
       "      <td>Yes</td>\n",
       "      <td>Self-employed</td>\n",
       "      <td>Rural</td>\n",
       "      <td>202.21</td>\n",
       "      <td>NaN</td>\n",
       "      <td>never smoked</td>\n",
       "      <td>1</td>\n",
       "    </tr>\n",
       "    <tr>\n",
       "      <th>31112</th>\n",
       "      <td>Male</td>\n",
       "      <td>80.0</td>\n",
       "      <td>0</td>\n",
       "      <td>1</td>\n",
       "      <td>Yes</td>\n",
       "      <td>Private</td>\n",
       "      <td>Rural</td>\n",
       "      <td>105.92</td>\n",
       "      <td>32.5</td>\n",
       "      <td>never smoked</td>\n",
       "      <td>1</td>\n",
       "    </tr>\n",
       "    <tr>\n",
       "      <th>60182</th>\n",
       "      <td>Female</td>\n",
       "      <td>49.0</td>\n",
       "      <td>0</td>\n",
       "      <td>0</td>\n",
       "      <td>Yes</td>\n",
       "      <td>Private</td>\n",
       "      <td>Urban</td>\n",
       "      <td>171.23</td>\n",
       "      <td>34.4</td>\n",
       "      <td>smokes</td>\n",
       "      <td>1</td>\n",
       "    </tr>\n",
       "    <tr>\n",
       "      <th>1665</th>\n",
       "      <td>Female</td>\n",
       "      <td>79.0</td>\n",
       "      <td>1</td>\n",
       "      <td>0</td>\n",
       "      <td>Yes</td>\n",
       "      <td>Self-employed</td>\n",
       "      <td>Rural</td>\n",
       "      <td>174.12</td>\n",
       "      <td>24.0</td>\n",
       "      <td>never smoked</td>\n",
       "      <td>1</td>\n",
       "    </tr>\n",
       "    <tr>\n",
       "      <th>56669</th>\n",
       "      <td>Male</td>\n",
       "      <td>81.0</td>\n",
       "      <td>0</td>\n",
       "      <td>0</td>\n",
       "      <td>Yes</td>\n",
       "      <td>Private</td>\n",
       "      <td>Urban</td>\n",
       "      <td>186.21</td>\n",
       "      <td>29.0</td>\n",
       "      <td>formerly smoked</td>\n",
       "      <td>1</td>\n",
       "    </tr>\n",
       "    <tr>\n",
       "      <th>53882</th>\n",
       "      <td>Male</td>\n",
       "      <td>74.0</td>\n",
       "      <td>1</td>\n",
       "      <td>1</td>\n",
       "      <td>Yes</td>\n",
       "      <td>Private</td>\n",
       "      <td>Rural</td>\n",
       "      <td>70.09</td>\n",
       "      <td>27.4</td>\n",
       "      <td>never smoked</td>\n",
       "      <td>1</td>\n",
       "    </tr>\n",
       "    <tr>\n",
       "      <th>10434</th>\n",
       "      <td>Female</td>\n",
       "      <td>69.0</td>\n",
       "      <td>0</td>\n",
       "      <td>0</td>\n",
       "      <td>No</td>\n",
       "      <td>Private</td>\n",
       "      <td>Urban</td>\n",
       "      <td>94.39</td>\n",
       "      <td>22.8</td>\n",
       "      <td>never smoked</td>\n",
       "      <td>1</td>\n",
       "    </tr>\n",
       "    <tr>\n",
       "      <th>27419</th>\n",
       "      <td>Female</td>\n",
       "      <td>59.0</td>\n",
       "      <td>0</td>\n",
       "      <td>0</td>\n",
       "      <td>Yes</td>\n",
       "      <td>Private</td>\n",
       "      <td>Rural</td>\n",
       "      <td>76.15</td>\n",
       "      <td>NaN</td>\n",
       "      <td>Unknown</td>\n",
       "      <td>1</td>\n",
       "    </tr>\n",
       "    <tr>\n",
       "      <th>60491</th>\n",
       "      <td>Female</td>\n",
       "      <td>78.0</td>\n",
       "      <td>0</td>\n",
       "      <td>0</td>\n",
       "      <td>Yes</td>\n",
       "      <td>Private</td>\n",
       "      <td>Urban</td>\n",
       "      <td>58.57</td>\n",
       "      <td>24.2</td>\n",
       "      <td>Unknown</td>\n",
       "      <td>1</td>\n",
       "    </tr>\n",
       "  </tbody>\n",
       "</table>\n",
       "</div>"
      ],
      "text/plain": [
       "       gender   age  hypertension  heart_disease ever_married      work_type  \\\n",
       "id                                                                             \n",
       "9046     Male  67.0             0              1          Yes        Private   \n",
       "51676  Female  61.0             0              0          Yes  Self-employed   \n",
       "31112    Male  80.0             0              1          Yes        Private   \n",
       "60182  Female  49.0             0              0          Yes        Private   \n",
       "1665   Female  79.0             1              0          Yes  Self-employed   \n",
       "56669    Male  81.0             0              0          Yes        Private   \n",
       "53882    Male  74.0             1              1          Yes        Private   \n",
       "10434  Female  69.0             0              0           No        Private   \n",
       "27419  Female  59.0             0              0          Yes        Private   \n",
       "60491  Female  78.0             0              0          Yes        Private   \n",
       "\n",
       "      Residence_type  avg_glucose_level   bmi   smoking_status  stroke  \n",
       "id                                                                      \n",
       "9046           Urban             228.69  36.6  formerly smoked       1  \n",
       "51676          Rural             202.21   NaN     never smoked       1  \n",
       "31112          Rural             105.92  32.5     never smoked       1  \n",
       "60182          Urban             171.23  34.4           smokes       1  \n",
       "1665           Rural             174.12  24.0     never smoked       1  \n",
       "56669          Urban             186.21  29.0  formerly smoked       1  \n",
       "53882          Rural              70.09  27.4     never smoked       1  \n",
       "10434          Urban              94.39  22.8     never smoked       1  \n",
       "27419          Rural              76.15   NaN          Unknown       1  \n",
       "60491          Urban              58.57  24.2          Unknown       1  "
      ]
     },
     "execution_count": 4,
     "metadata": {},
     "output_type": "execute_result"
    }
   ],
   "source": [
    "df.head(10)"
   ]
  },
  {
   "cell_type": "code",
   "execution_count": 5,
   "id": "83445123",
   "metadata": {},
   "outputs": [
    {
     "data": {
      "text/html": [
       "<div>\n",
       "<style scoped>\n",
       "    .dataframe tbody tr th:only-of-type {\n",
       "        vertical-align: middle;\n",
       "    }\n",
       "\n",
       "    .dataframe tbody tr th {\n",
       "        vertical-align: top;\n",
       "    }\n",
       "\n",
       "    .dataframe thead th {\n",
       "        text-align: right;\n",
       "    }\n",
       "</style>\n",
       "<table border=\"1\" class=\"dataframe\">\n",
       "  <thead>\n",
       "    <tr style=\"text-align: right;\">\n",
       "      <th></th>\n",
       "      <th>gender</th>\n",
       "      <th>age</th>\n",
       "      <th>hypertension</th>\n",
       "      <th>heart_disease</th>\n",
       "      <th>ever_married</th>\n",
       "      <th>work_type</th>\n",
       "      <th>Residence_type</th>\n",
       "      <th>avg_glucose_level</th>\n",
       "      <th>bmi</th>\n",
       "      <th>smoking_status</th>\n",
       "      <th>stroke</th>\n",
       "    </tr>\n",
       "    <tr>\n",
       "      <th>id</th>\n",
       "      <th></th>\n",
       "      <th></th>\n",
       "      <th></th>\n",
       "      <th></th>\n",
       "      <th></th>\n",
       "      <th></th>\n",
       "      <th></th>\n",
       "      <th></th>\n",
       "      <th></th>\n",
       "      <th></th>\n",
       "      <th></th>\n",
       "    </tr>\n",
       "  </thead>\n",
       "  <tbody>\n",
       "    <tr>\n",
       "      <th>68398</th>\n",
       "      <td>Male</td>\n",
       "      <td>82.0</td>\n",
       "      <td>1</td>\n",
       "      <td>0</td>\n",
       "      <td>Yes</td>\n",
       "      <td>Self-employed</td>\n",
       "      <td>Rural</td>\n",
       "      <td>71.97</td>\n",
       "      <td>28.3</td>\n",
       "      <td>never smoked</td>\n",
       "      <td>0</td>\n",
       "    </tr>\n",
       "    <tr>\n",
       "      <th>36901</th>\n",
       "      <td>Female</td>\n",
       "      <td>45.0</td>\n",
       "      <td>0</td>\n",
       "      <td>0</td>\n",
       "      <td>Yes</td>\n",
       "      <td>Private</td>\n",
       "      <td>Urban</td>\n",
       "      <td>97.95</td>\n",
       "      <td>24.5</td>\n",
       "      <td>Unknown</td>\n",
       "      <td>0</td>\n",
       "    </tr>\n",
       "    <tr>\n",
       "      <th>45010</th>\n",
       "      <td>Female</td>\n",
       "      <td>57.0</td>\n",
       "      <td>0</td>\n",
       "      <td>0</td>\n",
       "      <td>Yes</td>\n",
       "      <td>Private</td>\n",
       "      <td>Rural</td>\n",
       "      <td>77.93</td>\n",
       "      <td>21.7</td>\n",
       "      <td>never smoked</td>\n",
       "      <td>0</td>\n",
       "    </tr>\n",
       "    <tr>\n",
       "      <th>22127</th>\n",
       "      <td>Female</td>\n",
       "      <td>18.0</td>\n",
       "      <td>0</td>\n",
       "      <td>0</td>\n",
       "      <td>No</td>\n",
       "      <td>Private</td>\n",
       "      <td>Urban</td>\n",
       "      <td>82.85</td>\n",
       "      <td>46.9</td>\n",
       "      <td>Unknown</td>\n",
       "      <td>0</td>\n",
       "    </tr>\n",
       "    <tr>\n",
       "      <th>14180</th>\n",
       "      <td>Female</td>\n",
       "      <td>13.0</td>\n",
       "      <td>0</td>\n",
       "      <td>0</td>\n",
       "      <td>No</td>\n",
       "      <td>children</td>\n",
       "      <td>Rural</td>\n",
       "      <td>103.08</td>\n",
       "      <td>18.6</td>\n",
       "      <td>Unknown</td>\n",
       "      <td>0</td>\n",
       "    </tr>\n",
       "    <tr>\n",
       "      <th>18234</th>\n",
       "      <td>Female</td>\n",
       "      <td>80.0</td>\n",
       "      <td>1</td>\n",
       "      <td>0</td>\n",
       "      <td>Yes</td>\n",
       "      <td>Private</td>\n",
       "      <td>Urban</td>\n",
       "      <td>83.75</td>\n",
       "      <td>NaN</td>\n",
       "      <td>never smoked</td>\n",
       "      <td>0</td>\n",
       "    </tr>\n",
       "    <tr>\n",
       "      <th>44873</th>\n",
       "      <td>Female</td>\n",
       "      <td>81.0</td>\n",
       "      <td>0</td>\n",
       "      <td>0</td>\n",
       "      <td>Yes</td>\n",
       "      <td>Self-employed</td>\n",
       "      <td>Urban</td>\n",
       "      <td>125.20</td>\n",
       "      <td>40.0</td>\n",
       "      <td>never smoked</td>\n",
       "      <td>0</td>\n",
       "    </tr>\n",
       "    <tr>\n",
       "      <th>19723</th>\n",
       "      <td>Female</td>\n",
       "      <td>35.0</td>\n",
       "      <td>0</td>\n",
       "      <td>0</td>\n",
       "      <td>Yes</td>\n",
       "      <td>Self-employed</td>\n",
       "      <td>Rural</td>\n",
       "      <td>82.99</td>\n",
       "      <td>30.6</td>\n",
       "      <td>never smoked</td>\n",
       "      <td>0</td>\n",
       "    </tr>\n",
       "    <tr>\n",
       "      <th>37544</th>\n",
       "      <td>Male</td>\n",
       "      <td>51.0</td>\n",
       "      <td>0</td>\n",
       "      <td>0</td>\n",
       "      <td>Yes</td>\n",
       "      <td>Private</td>\n",
       "      <td>Rural</td>\n",
       "      <td>166.29</td>\n",
       "      <td>25.6</td>\n",
       "      <td>formerly smoked</td>\n",
       "      <td>0</td>\n",
       "    </tr>\n",
       "    <tr>\n",
       "      <th>44679</th>\n",
       "      <td>Female</td>\n",
       "      <td>44.0</td>\n",
       "      <td>0</td>\n",
       "      <td>0</td>\n",
       "      <td>Yes</td>\n",
       "      <td>Govt_job</td>\n",
       "      <td>Urban</td>\n",
       "      <td>85.28</td>\n",
       "      <td>26.2</td>\n",
       "      <td>Unknown</td>\n",
       "      <td>0</td>\n",
       "    </tr>\n",
       "  </tbody>\n",
       "</table>\n",
       "</div>"
      ],
      "text/plain": [
       "       gender   age  hypertension  heart_disease ever_married      work_type  \\\n",
       "id                                                                             \n",
       "68398    Male  82.0             1              0          Yes  Self-employed   \n",
       "36901  Female  45.0             0              0          Yes        Private   \n",
       "45010  Female  57.0             0              0          Yes        Private   \n",
       "22127  Female  18.0             0              0           No        Private   \n",
       "14180  Female  13.0             0              0           No       children   \n",
       "18234  Female  80.0             1              0          Yes        Private   \n",
       "44873  Female  81.0             0              0          Yes  Self-employed   \n",
       "19723  Female  35.0             0              0          Yes  Self-employed   \n",
       "37544    Male  51.0             0              0          Yes        Private   \n",
       "44679  Female  44.0             0              0          Yes       Govt_job   \n",
       "\n",
       "      Residence_type  avg_glucose_level   bmi   smoking_status  stroke  \n",
       "id                                                                      \n",
       "68398          Rural              71.97  28.3     never smoked       0  \n",
       "36901          Urban              97.95  24.5          Unknown       0  \n",
       "45010          Rural              77.93  21.7     never smoked       0  \n",
       "22127          Urban              82.85  46.9          Unknown       0  \n",
       "14180          Rural             103.08  18.6          Unknown       0  \n",
       "18234          Urban              83.75   NaN     never smoked       0  \n",
       "44873          Urban             125.20  40.0     never smoked       0  \n",
       "19723          Rural              82.99  30.6     never smoked       0  \n",
       "37544          Rural             166.29  25.6  formerly smoked       0  \n",
       "44679          Urban              85.28  26.2          Unknown       0  "
      ]
     },
     "execution_count": 5,
     "metadata": {},
     "output_type": "execute_result"
    }
   ],
   "source": [
    "df.tail(10)"
   ]
  },
  {
   "cell_type": "code",
   "execution_count": 6,
   "id": "ebc24b2a",
   "metadata": {},
   "outputs": [
    {
     "data": {
      "text/html": [
       "<div>\n",
       "<style scoped>\n",
       "    .dataframe tbody tr th:only-of-type {\n",
       "        vertical-align: middle;\n",
       "    }\n",
       "\n",
       "    .dataframe tbody tr th {\n",
       "        vertical-align: top;\n",
       "    }\n",
       "\n",
       "    .dataframe thead th {\n",
       "        text-align: right;\n",
       "    }\n",
       "</style>\n",
       "<table border=\"1\" class=\"dataframe\">\n",
       "  <thead>\n",
       "    <tr style=\"text-align: right;\">\n",
       "      <th></th>\n",
       "      <th>age</th>\n",
       "      <th>hypertension</th>\n",
       "      <th>heart_disease</th>\n",
       "      <th>avg_glucose_level</th>\n",
       "      <th>bmi</th>\n",
       "      <th>stroke</th>\n",
       "    </tr>\n",
       "  </thead>\n",
       "  <tbody>\n",
       "    <tr>\n",
       "      <th>count</th>\n",
       "      <td>5110.000000</td>\n",
       "      <td>5110.000000</td>\n",
       "      <td>5110.000000</td>\n",
       "      <td>5110.000000</td>\n",
       "      <td>4909.000000</td>\n",
       "      <td>5110.000000</td>\n",
       "    </tr>\n",
       "    <tr>\n",
       "      <th>mean</th>\n",
       "      <td>43.226614</td>\n",
       "      <td>0.097456</td>\n",
       "      <td>0.054012</td>\n",
       "      <td>106.147677</td>\n",
       "      <td>28.893237</td>\n",
       "      <td>0.048728</td>\n",
       "    </tr>\n",
       "    <tr>\n",
       "      <th>std</th>\n",
       "      <td>22.612647</td>\n",
       "      <td>0.296607</td>\n",
       "      <td>0.226063</td>\n",
       "      <td>45.283560</td>\n",
       "      <td>7.854067</td>\n",
       "      <td>0.215320</td>\n",
       "    </tr>\n",
       "    <tr>\n",
       "      <th>min</th>\n",
       "      <td>0.080000</td>\n",
       "      <td>0.000000</td>\n",
       "      <td>0.000000</td>\n",
       "      <td>55.120000</td>\n",
       "      <td>10.300000</td>\n",
       "      <td>0.000000</td>\n",
       "    </tr>\n",
       "    <tr>\n",
       "      <th>25%</th>\n",
       "      <td>25.000000</td>\n",
       "      <td>0.000000</td>\n",
       "      <td>0.000000</td>\n",
       "      <td>77.245000</td>\n",
       "      <td>23.500000</td>\n",
       "      <td>0.000000</td>\n",
       "    </tr>\n",
       "    <tr>\n",
       "      <th>50%</th>\n",
       "      <td>45.000000</td>\n",
       "      <td>0.000000</td>\n",
       "      <td>0.000000</td>\n",
       "      <td>91.885000</td>\n",
       "      <td>28.100000</td>\n",
       "      <td>0.000000</td>\n",
       "    </tr>\n",
       "    <tr>\n",
       "      <th>75%</th>\n",
       "      <td>61.000000</td>\n",
       "      <td>0.000000</td>\n",
       "      <td>0.000000</td>\n",
       "      <td>114.090000</td>\n",
       "      <td>33.100000</td>\n",
       "      <td>0.000000</td>\n",
       "    </tr>\n",
       "    <tr>\n",
       "      <th>max</th>\n",
       "      <td>82.000000</td>\n",
       "      <td>1.000000</td>\n",
       "      <td>1.000000</td>\n",
       "      <td>271.740000</td>\n",
       "      <td>97.600000</td>\n",
       "      <td>1.000000</td>\n",
       "    </tr>\n",
       "  </tbody>\n",
       "</table>\n",
       "</div>"
      ],
      "text/plain": [
       "               age  hypertension  heart_disease  avg_glucose_level  \\\n",
       "count  5110.000000   5110.000000    5110.000000        5110.000000   \n",
       "mean     43.226614      0.097456       0.054012         106.147677   \n",
       "std      22.612647      0.296607       0.226063          45.283560   \n",
       "min       0.080000      0.000000       0.000000          55.120000   \n",
       "25%      25.000000      0.000000       0.000000          77.245000   \n",
       "50%      45.000000      0.000000       0.000000          91.885000   \n",
       "75%      61.000000      0.000000       0.000000         114.090000   \n",
       "max      82.000000      1.000000       1.000000         271.740000   \n",
       "\n",
       "               bmi       stroke  \n",
       "count  4909.000000  5110.000000  \n",
       "mean     28.893237     0.048728  \n",
       "std       7.854067     0.215320  \n",
       "min      10.300000     0.000000  \n",
       "25%      23.500000     0.000000  \n",
       "50%      28.100000     0.000000  \n",
       "75%      33.100000     0.000000  \n",
       "max      97.600000     1.000000  "
      ]
     },
     "execution_count": 6,
     "metadata": {},
     "output_type": "execute_result"
    }
   ],
   "source": [
    "df.describe()"
   ]
  },
  {
   "cell_type": "markdown",
   "id": "c599d138",
   "metadata": {},
   "source": [
    "## 1.2 Values and number of occurence of categorical attributes:"
   ]
  },
  {
   "cell_type": "code",
   "execution_count": 7,
   "id": "7ce0beea",
   "metadata": {},
   "outputs": [
    {
     "name": "stdout",
     "output_type": "stream",
     "text": [
      "Values and number of occurence for the attribute 'gender' :\n",
      "           Male : 2115\n",
      "         Female : 2994\n",
      "          Other : 1\n",
      "\n",
      "Values and number of occurence for the attribute 'hypertension' :\n",
      "              0 : 4612\n",
      "              1 : 498\n",
      "\n",
      "Values and number of occurence for the attribute 'heart_disease' :\n",
      "              1 : 276\n",
      "              0 : 4834\n",
      "\n",
      "Values and number of occurence for the attribute 'ever_married' :\n",
      "            Yes : 3353\n",
      "             No : 1757\n",
      "\n",
      "Values and number of occurence for the attribute 'work_type' :\n",
      "        Private : 2925\n",
      "  Self-employed : 819\n",
      "       Govt_job : 657\n",
      "       children : 687\n",
      "   Never_worked : 22\n",
      "\n",
      "Values and number of occurence for the attribute 'Residence_type' :\n",
      "          Urban : 2596\n",
      "          Rural : 2514\n",
      "\n",
      "Values and number of occurence for the attribute 'smoking_status' :\n",
      "formerly smoked : 885\n",
      "   never smoked : 1892\n",
      "         smokes : 789\n",
      "        Unknown : 1544\n",
      "\n",
      "Values and number of occurence for the attribute 'stroke' :\n",
      "              1 : 249\n",
      "              0 : 4861\n",
      "\n"
     ]
    }
   ],
   "source": [
    "for attribute in df.columns:\n",
    "  if attribute not in ['age', 'bmi', 'avg_glucose_level']:\n",
    "    print(\"Values and number of occurence for the attribute '%s' :\"%attribute)\n",
    "    for val in df[attribute].unique():\n",
    "      print(\"%15s : %d\"%(val, df[attribute][df[attribute]==val].count()))\n",
    "    print()"
   ]
  },
  {
   "cell_type": "markdown",
   "id": "07bad88a",
   "metadata": {},
   "source": [
    "## 1.3 Pie plot of numerical attributes:"
   ]
  },
  {
   "cell_type": "code",
   "execution_count": 10,
   "id": "6a0f2442",
   "metadata": {},
   "outputs": [
    {
     "data": {
      "image/png": "[encoded data removed]",
      "text/plain": [
       "<Figure size 1224x360 with 3 Axes>"
      ]
     },
     "metadata": {},
     "output_type": "display_data"
    }
   ],
   "source": [
    "plt.figure(figsize=(17,5))\n",
    "# Hypertension:\n",
    "plt.subplot(131)\n",
    "plt.pie(df.hypertension.value_counts(), labels=df.hypertension.value_counts().index,autopct='%1.1f%%',\n",
    "        explode=[0.2,0], textprops = {\"fontsize\":15})\n",
    "plt.title(\"Hypertension\", fontsize=20)\n",
    "\n",
    "# heart disease:\n",
    "plt.subplot(132)\n",
    "plt.pie(df.heart_disease.value_counts(), labels=df.heart_disease.value_counts().index,autopct='%1.1f%%',\n",
    "        explode=[0.2,0], textprops = {\"fontsize\":15})\n",
    "plt.title(\"Heart disease\", fontsize=20)\n",
    "\n",
    "# Stroke:\n",
    "plt.subplot(133)\n",
    "plt.pie(df.stroke.value_counts(), labels=df.stroke.value_counts().index,autopct='%1.1f%%',\n",
    "        explode=[0.2,0], textprops = {\"fontsize\":15})\n",
    "plt.title(\"stroke\", fontsize=20)\n",
    "\n",
    "plt.show()"
   ]
  },
  {
   "cell_type": "markdown",
   "id": "a2b6d598",
   "metadata": {},
   "source": [
    "## 1.4 Histogram and boxplot of and boxplot the numerical attributes"
   ]
  },
  {
   "cell_type": "code",
   "execution_count": 12,
   "id": "bfd8d8c1",
   "metadata": {},
   "outputs": [
    {
     "data": {
      "image/png": "[encoded data removed]",
      "text/plain": [
       "<Figure size 1224x720 with 6 Axes>"
      ]
     },
     "metadata": {
      "needs_background": "light"
     },
     "output_type": "display_data"
    }
   ],
   "source": [
    "plt.figure(figsize=(17,10))\n",
    "plt.subplots_adjust(hspace=0.4, wspace=0.05)\n",
    "\n",
    "# -----------------------------------------------------------------------------\n",
    "# First line : Age\n",
    "plt.subplot(321)\n",
    "plt.hist(df.age, bins=20, edgecolor='white', linewidth=1.2)\n",
    "plt.xlabel(\"Age\", fontsize=15)\n",
    "\n",
    "plt.subplot(322)\n",
    "sns.boxplot(x=df.age)\n",
    "plt.xlabel(\"Age\")\n",
    "\n",
    "# -----------------------------------------------------------------------------\n",
    "# Second line : Avg_glucose_level\n",
    "plt.subplot(323)\n",
    "plt.hist(df.avg_glucose_level, bins=20, edgecolor='white', linewidth=1.2)\n",
    "plt.xlabel(\"Average glucose level\", fontsize=15)\n",
    "\n",
    "plt.subplot(324)\n",
    "sns.boxplot(x=df.avg_glucose_level)\n",
    "plt.xlabel(\"Average glucose level\")\n",
    "\n",
    "# -----------------------------------------------------------------------------\n",
    "# Third line : BMI\n",
    "plt.subplot(325)\n",
    "plt.hist(df.bmi, bins=20, edgecolor='white', linewidth=1.2)\n",
    "plt.xlabel(\"BMI\", fontsize=15)\n",
    "\n",
    "plt.subplot(326)\n",
    "sns.boxplot(x=df.bmi)\n",
    "plt.xlabel(\"BMI\")\n",
    "\n",
    "plt.show()"
   ]
  },
  {
   "cell_type": "code",
   "execution_count": 13,
   "id": "c606b4ff",
   "metadata": {},
   "outputs": [
    {
     "data": {
      "text/plain": [
       "id\n",
       "56420    97.6\n",
       "51856    92.0\n",
       "41097    78.0\n",
       "545      71.9\n",
       "37759    66.8\n",
       "66333    64.8\n",
       "70670    64.4\n",
       "20292    63.3\n",
       "72784    61.6\n",
       "65895    61.2\n",
       "Name: bmi, dtype: float64"
      ]
     },
     "execution_count": 13,
     "metadata": {},
     "output_type": "execute_result"
    }
   ],
   "source": [
    "# --- Identification of the outliers values of BMI (large values):\n",
    "df.bmi.sort_values(ascending=False).head(10)"
   ]
  },
  {
   "cell_type": "markdown",
   "id": "64eccd62",
   "metadata": {},
   "source": [
    "## 1.5 Search if obvious relations between features of the dataset"
   ]
  },
  {
   "cell_type": "code",
   "execution_count": 14,
   "id": "6dffa54e",
   "metadata": {},
   "outputs": [
    {
     "data": {
      "image/png": "[encoded data removed]",
      "text/plain": [
       "<Figure size 432x288 with 1 Axes>"
      ]
     },
     "metadata": {
      "needs_background": "light"
     },
     "output_type": "display_data"
    }
   ],
   "source": [
    "# gender vs. stroke:\n",
    "sns.histplot(data=df, x=\"gender\", hue=\"stroke\", multiple=\"stack\")\n",
    "plt.title(\"Gender vs. Stroke\")\n",
    "plt.show()"
   ]
  },
  {
   "cell_type": "code",
   "execution_count": 15,
   "id": "02100357",
   "metadata": {},
   "outputs": [
    {
     "data": {
      "image/png": "[encoded data removed]",
      "text/plain": [
       "<Figure size 432x288 with 1 Axes>"
      ]
     },
     "metadata": {
      "needs_background": "light"
     },
     "output_type": "display_data"
    }
   ],
   "source": [
    "# hypertension vs. stroke:\n",
    "sns.histplot(data=df, x=\"hypertension\", hue=\"stroke\", multiple=\"stack\")\n",
    "plt.title(\"Hypertension vs. Stroke\")\n",
    "plt.show()"
   ]
  },
  {
   "cell_type": "code",
   "execution_count": 16,
   "id": "f6ac4927",
   "metadata": {},
   "outputs": [
    {
     "data": {
      "image/png": "[encoded data removed]",
      "text/plain": [
       "<Figure size 432x288 with 1 Axes>"
      ]
     },
     "metadata": {
      "needs_background": "light"
     },
     "output_type": "display_data"
    }
   ],
   "source": [
    "# heart_disease vs. stroke:\n",
    "sns.histplot(data=df, x=\"heart_disease\", hue=\"stroke\", multiple=\"stack\")\n",
    "plt.title(\"Heart disease vs. Stroke\")\n",
    "plt.show()"
   ]
  },
  {
   "cell_type": "markdown",
   "id": "dfc8e48b",
   "metadata": {},
   "source": [
    "## 1.6 Looking for any missing values"
   ]
  },
  {
   "cell_type": "code",
   "execution_count": 17,
   "id": "7be4ad2a",
   "metadata": {},
   "outputs": [
    {
     "data": {
      "text/plain": [
       "gender                 0\n",
       "age                    0\n",
       "hypertension           0\n",
       "heart_disease          0\n",
       "ever_married           0\n",
       "work_type              0\n",
       "Residence_type         0\n",
       "avg_glucose_level      0\n",
       "bmi                  201\n",
       "smoking_status         0\n",
       "stroke                 0\n",
       "dtype: int64"
      ]
     },
     "execution_count": 17,
     "metadata": {},
     "output_type": "execute_result"
    }
   ],
   "source": [
    "# --- Where are the missing values:\n",
    "df.isna().sum()"
   ]
  },
  {
   "cell_type": "markdown",
   "id": "4f131191",
   "metadata": {},
   "source": [
    "## 1.7 Renaming one attribute"
   ]
  },
  {
   "cell_type": "code",
   "execution_count": 18,
   "id": "9f8dd128",
   "metadata": {},
   "outputs": [],
   "source": [
    "# All attributes name start with lower-case letter, except one. Correct it:\n",
    "df.rename(columns={\"Residence_type\":\"residence_type\"}, inplace=True)"
   ]
  },
  {
   "cell_type": "markdown",
   "id": "86cf5712",
   "metadata": {},
   "source": [
    "# 2. Feature engineering"
   ]
  },
  {
   "cell_type": "markdown",
   "id": "b2664ce4",
   "metadata": {},
   "source": [
    "## 2.1 Categorical attributes to binary attributes"
   ]
  },
  {
   "cell_type": "markdown",
   "id": "740c292b",
   "metadata": {},
   "source": [
    "### 2.1.1 'ever_married' attribute"
   ]
  },
  {
   "cell_type": "code",
   "execution_count": 19,
   "id": "99216dac",
   "metadata": {},
   "outputs": [
    {
     "data": {
      "text/plain": [
       "id\n",
       "9046     1\n",
       "51676    1\n",
       "31112    1\n",
       "60182    1\n",
       "1665     1\n",
       "        ..\n",
       "18234    1\n",
       "44873    1\n",
       "19723    1\n",
       "37544    1\n",
       "44679    1\n",
       "Name: ever_married, Length: 5110, dtype: int64"
      ]
     },
     "execution_count": 19,
     "metadata": {},
     "output_type": "execute_result"
    }
   ],
   "source": [
    "# Change Ever_married : No/Yes -> 0/1\n",
    "df.loc[:, [\"ever_married\"]] = pd.get_dummies(df.ever_married, drop_first=True).values\n",
    "\n",
    "df.ever_married"
   ]
  },
  {
   "cell_type": "markdown",
   "id": "99d4f3b4",
   "metadata": {},
   "source": [
    "### 2.1.2 'residence_type' attribute"
   ]
  },
  {
   "cell_type": "code",
   "execution_count": 20,
   "id": "8edd6a85",
   "metadata": {},
   "outputs": [
    {
     "data": {
      "text/plain": [
       "id\n",
       "9046     1\n",
       "51676    0\n",
       "31112    0\n",
       "60182    1\n",
       "1665     0\n",
       "        ..\n",
       "18234    1\n",
       "44873    1\n",
       "19723    0\n",
       "37544    0\n",
       "44679    1\n",
       "Name: urban_residence, Length: 5110, dtype: int64"
      ]
     },
     "execution_count": 20,
     "metadata": {},
     "output_type": "execute_result"
    }
   ],
   "source": [
    "# Change residence_type : rural/urban -> 0/1\n",
    "df.loc[:, [\"residence_type\"]] = pd.get_dummies(df.residence_type, drop_first=True).values\n",
    "\n",
    "df.rename(columns={\"residence_type\":\"urban_residence\"}, inplace=True)\n",
    "\n",
    "df.urban_residence"
   ]
  },
  {
   "cell_type": "markdown",
   "id": "ac3fce6e",
   "metadata": {},
   "source": [
    "### 2.1.3 'gender' attribute"
   ]
  },
  {
   "cell_type": "code",
   "execution_count": 21,
   "id": "fd152ba1",
   "metadata": {},
   "outputs": [],
   "source": [
    "# Gender is Male/Female/Other. \n",
    "# Only one 'Other' for id=56156. This person did not have a stroke. \n",
    "# The size of the population of the person who did not have a stroke is very large (4 861) \n",
    "# compared to the population of the person who did have a stroke (249). \n",
    "# We can discard this only data as it might not affect much the result. \n",
    "#  display(self.df.loc[self.df.gender=='Other', 'stroke'])\n",
    "\n",
    "# what ID for the gender=Other:\n",
    "df.gender.loc[df.gender=='Other']\n",
    "\n",
    "# Look at the attribute values for gender=Other:\n",
    "df.loc[df.gender=='Other']\n",
    "\n",
    "# Remove it:\n",
    "df = df.drop(index=df.loc[df.gender=='Other',:].index)"
   ]
  },
  {
   "cell_type": "code",
   "execution_count": 22,
   "id": "07686ca2",
   "metadata": {},
   "outputs": [
    {
     "data": {
      "text/plain": [
       "id\n",
       "9046     1\n",
       "51676    0\n",
       "31112    1\n",
       "60182    0\n",
       "1665     0\n",
       "        ..\n",
       "18234    0\n",
       "44873    0\n",
       "19723    0\n",
       "37544    1\n",
       "44679    0\n",
       "Name: gender_female, Length: 5109, dtype: int64"
      ]
     },
     "execution_count": 22,
     "metadata": {},
     "output_type": "execute_result"
    }
   ],
   "source": [
    "# Change gender : Male/Female -> 0/1:\n",
    "df.loc[:, [\"gender\"]] = pd.get_dummies(df.gender, drop_first=True).values\n",
    "\n",
    "df.rename(columns={\"gender\":\"gender_female\"}, inplace=True)\n",
    "\n",
    "df.gender_female"
   ]
  },
  {
   "cell_type": "markdown",
   "id": "fac99408",
   "metadata": {},
   "source": [
    "### 2.1.4 'work_type' attribute"
   ]
  },
  {
   "cell_type": "code",
   "execution_count": 23,
   "id": "587d24ba",
   "metadata": {},
   "outputs": [],
   "source": [
    "# Create new columns for the work_type:\n",
    "df = pd.concat([df, pd.get_dummies(df.work_type)],axis=1).drop(columns=\"work_type\")\n",
    "\n",
    "df.rename(columns={\"Private\":\"job_private\", \n",
    "                   \"Govt_job\":\"job_government\", \n",
    "                   \"Never_worked\":\"job_never\", \n",
    "                   \"children\":\"job_children\", \n",
    "                   \"Self-employed\":\"job_selfemployed\"}, inplace=True)"
   ]
  },
  {
   "cell_type": "markdown",
   "id": "d7254f31",
   "metadata": {},
   "source": [
    "### 2.1.5 'smoking_status' attribute"
   ]
  },
  {
   "cell_type": "code",
   "execution_count": 24,
   "id": "7861d087",
   "metadata": {},
   "outputs": [],
   "source": [
    "# Create new columns for the smoking status ?\n",
    "#    Never smoked : 1892\n",
    "#         Unknown : 1544\n",
    "# formerly smoked : 884\n",
    "#          smokes : 789\n",
    "\n",
    "# We have two choices : \n",
    "# 1. ordinal encoding: \n",
    "#     unknown -> nan \n",
    "#       never -> 1 \n",
    "#    formerly -> 2\n",
    "#      smokes -> 3\n",
    "# 2.  vector encoding: one column per value\n",
    "\n",
    "# Keep a saving of the current state of the dataset:\n",
    "df_svg = df.copy()"
   ]
  },
  {
   "cell_type": "code",
   "execution_count": 25,
   "id": "491684a9",
   "metadata": {},
   "outputs": [],
   "source": [
    "# Try Ordinal encoding:\n",
    "df['smoking_status'] = df['smoking_status'].replace(['Unknown']        , np.nan)\n",
    "df['smoking_status'] = df['smoking_status'].replace(['never smoked']   , 1)\n",
    "df['smoking_status'] = df['smoking_status'].replace(['formerly smoked'], 2)\n",
    "df['smoking_status'] = df['smoking_status'].replace(['smokes']         , 3)"
   ]
  },
  {
   "cell_type": "code",
   "execution_count": 26,
   "id": "d7ff765b",
   "metadata": {},
   "outputs": [
    {
     "data": {
      "image/png": "[encoded data removed]",
      "text/plain": [
       "<Figure size 792x648 with 2 Axes>"
      ]
     },
     "metadata": {
      "needs_background": "light"
     },
     "output_type": "display_data"
    }
   ],
   "source": [
    "# Check the correlation matrix if we see significant relation between the smoking_status and the rest:\n",
    "\n",
    "# ----- Plot the correlation matrix :\n",
    "mask = np.triu(np.ones_like(df.corr(), dtype=bool)) # Remove the useless upper-triangle from the plot.\n",
    "np.fill_diagonal(mask, False) # Keep plotting the diagonal.\n",
    "\n",
    "# Set up the matplotlib figure\n",
    "f, ax = plt.subplots(figsize=(11,9))\n",
    "\n",
    "# Generate a custom diverging colormap\n",
    "cmap = sns.diverging_palette(230, 20, n=256, as_cmap=True)\n",
    "\n",
    "# Draw the heatmap with the mask and correct aspect ratio\n",
    "sns.heatmap(df.corr(), mask=mask, cmap=cmap, vmax=1, vmin =-1,\n",
    "            square=True, linewidths=.5, annot=True,\n",
    "            fmt='0.2f', annot_kws={'size': 10},\n",
    "            cbar_kws={\"shrink\": .75, \"label\":\"Correlation coefficient\"})\n",
    "\n",
    "plt.title(\"Correlation matrix for ordinal encoding of smoking_status\", fontsize=20)\n",
    "plt.show()\n",
    "\n",
    "# --> no significant correlation between 'smoking_status' and the other attributes."
   ]
  },
  {
   "cell_type": "code",
   "execution_count": 27,
   "id": "40f2d18b",
   "metadata": {},
   "outputs": [],
   "source": [
    "# Try vector encoding:\n",
    "\n",
    "# Get back the original dataset:\n",
    "df = df_svg.copy()\n",
    "\n",
    "# keep Unknown as a valid value... `\n",
    "df = pd.concat([df, pd.get_dummies(df.smoking_status)],axis=1).drop(columns=\"smoking_status\")\n",
    "\n",
    "df.rename(columns={\"Unknown\":\"smoker_unknown\", \n",
    "                \"never smoked\":\"smoker_never\", \n",
    "             \"formerly smoked\":\"smoker_formerly\", \n",
    "                      \"smokes\":\"smoker\"}, inplace=True)"
   ]
  },
  {
   "cell_type": "code",
   "execution_count": 28,
   "id": "258d9da1",
   "metadata": {},
   "outputs": [
    {
     "data": {
      "image/png": "[encoded data removed]",
      "text/plain": [
       "<Figure size 792x648 with 2 Axes>"
      ]
     },
     "metadata": {
      "needs_background": "light"
     },
     "output_type": "display_data"
    }
   ],
   "source": [
    "# Check the correlation matrix if we see significant relation between the smoking_status and the rest:\n",
    "\n",
    "# ----- Plot the correlation matrix :\n",
    "mask = np.triu(np.ones_like(df.corr(), dtype=bool)) # Remove the useless upper-triangle from the plot.\n",
    "np.fill_diagonal(mask, False) # Keep plotting the diagonal.\n",
    "\n",
    "# Set up the matplotlib figure\n",
    "f, ax = plt.subplots(figsize=(11,9))\n",
    "\n",
    "# Generate a custom diverging colormap\n",
    "cmap = sns.diverging_palette(230, 20, n=256, as_cmap=True)\n",
    "\n",
    "# Draw the heatmap with the mask and correct aspect ratio\n",
    "sns.heatmap(df.corr(), mask=mask, cmap=cmap, vmax=1, vmin =-1,\n",
    "            square=True, linewidths=.5, annot=True,\n",
    "            fmt='0.2f', annot_kws={'size': 10},\n",
    "            cbar_kws={\"shrink\": .75, \"label\":\"Correlation coefficient\"})\n",
    "\n",
    "plt.title(\"Correlation matrix for vector encoding of smoking_status\", fontsize=20)\n",
    "plt.show()\n",
    "\n",
    "# --> some correlation appear and the size of the dataset is not much bigger, we keep this configuration."
   ]
  },
  {
   "cell_type": "markdown",
   "id": "05fa9db1",
   "metadata": {},
   "source": [
    "### 2.1.6 'bmi' attribute"
   ]
  },
  {
   "cell_type": "code",
   "execution_count": 29,
   "id": "b155c7d6",
   "metadata": {},
   "outputs": [],
   "source": [
    "# BMI attribute shows some outliers with large values. We remove the largest:\n",
    "# Remove the two entries with bmi>90\n",
    "df = df.drop(index=df.loc[df.bmi>90,:].index)"
   ]
  },
  {
   "cell_type": "code",
   "execution_count": 32,
   "id": "f331e39e",
   "metadata": {},
   "outputs": [
    {
     "data": {
      "image/png": "[encoded data removed]",
      "text/plain": [
       "<Figure size 1080x360 with 1 Axes>"
      ]
     },
     "metadata": {
      "needs_background": "light"
     },
     "output_type": "display_data"
    }
   ],
   "source": [
    "# --- Searches on BMI to replace missing values\n",
    "plt.figure(figsize=(15,5))\n",
    "df.bmi.hist(bins=50, edgecolor='white', linewidth=1.2)\n",
    "plt.xlabel(\"BMI\")\n",
    "plt.show()"
   ]
  },
  {
   "cell_type": "code",
   "execution_count": 33,
   "id": "94ca71f3",
   "metadata": {},
   "outputs": [
    {
     "data": {
      "image/png": "[encoded data removed]",
      "text/plain": [
       "<Figure size 1008x360 with 1 Axes>"
      ]
     },
     "metadata": {
      "needs_background": "light"
     },
     "output_type": "display_data"
    }
   ],
   "source": [
    "# Look at the distribution of the missing 'bmi' values vs. 'job_children'  (because strongest correlation)\n",
    "# Missing 'bmi' values are plotted with a value of 30 to be visible on the plot.\n",
    "\n",
    "plt.figure(figsize=(14,5))\n",
    "plt.scatter(df.job_children, df.bmi, marker='+', color='0', s=150)\n",
    "plt.scatter(df.job_children[df.bmi.isna()], [30]*len(df['job_children'][df.bmi.isna()]), marker='o', color='red', s=100)\n",
    "\n",
    "plt.xlabel(\"job_children\")\n",
    "plt.ylabel(\"BMI\")\n",
    "plt.legend([\": Data\", \": Missing values\"])\n",
    "plt.title(\"'job_children' vs. 'bmi'\")\n",
    "plt.show()\n",
    "\n",
    "# --> Not usefull because bolean values of job_children."
   ]
  },
  {
   "cell_type": "code",
   "execution_count": 34,
   "id": "67a11bf9",
   "metadata": {},
   "outputs": [
    {
     "data": {
      "image/png": "[encoded data removed]",
      "text/plain": [
       "<Figure size 1008x360 with 1 Axes>"
      ]
     },
     "metadata": {
      "needs_background": "light"
     },
     "output_type": "display_data"
    }
   ],
   "source": [
    "# Look at the distribution of the missing 'bmi' values vs. 'age' \n",
    "# (second strongest correlation and numerical values)\n",
    "# Missing 'bmi' values are plotted with a value of 30 to be visible on the plot.\n",
    "\n",
    "plt.figure(figsize=(14,5))\n",
    "plt.scatter(df.age, df.bmi, marker='+', color='0', s=150)\n",
    "plt.scatter(df.age[df.bmi.isna()], [30]*len(df['age'][df.bmi.isna()]), marker='o', color='red', s=100)\n",
    "\n",
    "plt.xlabel(\"Age\")\n",
    "plt.ylabel(\"BMI\")\n",
    "plt.legend([\": Data\", \": Missing values\"])\n",
    "plt.title(\"'age' vs. 'bmi'\")\n",
    "plt.show()\n",
    "\n",
    "# --> Not usefull because bolean values of job_children."
   ]
  },
  {
   "cell_type": "code",
   "execution_count": 35,
   "id": "76863119",
   "metadata": {},
   "outputs": [
    {
     "data": {
      "image/png": "[encoded data removed]",
      "text/plain": [
       "<Figure size 1008x360 with 1 Axes>"
      ]
     },
     "metadata": {
      "needs_background": "light"
     },
     "output_type": "display_data"
    }
   ],
   "source": [
    "# Values are discrete and integers for age >= 2\n",
    "plt.figure(figsize=(14,5))\n",
    "plt.scatter(df.age, df.bmi, marker='+', color='0', s=150)\n",
    "plt.scatter(df.age[df.bmi.isna()], [30]*len(df['age'][df.bmi.isna()]), marker='o', color='red', s=100)\n",
    "\n",
    "plt.xlabel(\"Age\")\n",
    "plt.ylabel(\"BMI\")\n",
    "plt.xlim([0, 10])\n",
    "plt.ylim([0, 40])\n",
    "plt.legend([\": Data\", \": Missing values\"])\n",
    "plt.title(\"'age' vs. 'bmi' [zoom]\")\n",
    "plt.show()"
   ]
  },
  {
   "cell_type": "code",
   "execution_count": 36,
   "id": "41c5addf",
   "metadata": {},
   "outputs": [],
   "source": [
    "# Search for the average bmi for each discrete age: \n",
    "  \n",
    "# Update BMI to remove missing values:\n",
    "avg_bmi_per_age = df.groupby([\"age\"]).mean().bmi\n",
    "  \n",
    "ages = list(avg_bmi_per_age.index)\n",
    "bmi_per_age = avg_bmi_per_age.values\n",
    "  \n",
    "# Create a dictionary to link each age to a average BMI:\n",
    "testi = {}\n",
    "for k in range(len(ages)):\n",
    "  testi[ages[k]] = bmi_per_age[k]\n",
    "  \n",
    "# Replace the missing BMI:\n",
    "for k in df.loc[df.bmi.isna()].index:\n",
    "  df.loc[k, \"bmi\"] = testi[df.loc[k, \"age\"]]"
   ]
  },
  {
   "cell_type": "code",
   "execution_count": 37,
   "id": "542f33e0",
   "metadata": {},
   "outputs": [
    {
     "data": {
      "image/png": "[encoded data removed]",
      "text/plain": [
       "<Figure size 1008x360 with 1 Axes>"
      ]
     },
     "metadata": {
      "needs_background": "light"
     },
     "output_type": "display_data"
    }
   ],
   "source": [
    "# Display the new values of 'bmi' as a function of age:\n",
    "\n",
    "plt.figure(figsize=(14,5))\n",
    "plt.scatter(df.age, df.bmi, marker='+', color='0', s=150)\n",
    "plt.scatter(ages, bmi_per_age ,marker='o', color='orange', s=100)\n",
    "plt.xlabel(\"Age\")\n",
    "plt.ylabel(\"BMI\")\n",
    "plt.xlim(2.5, 40.5)\n",
    "plt.ylim(10,65)\n",
    "plt.legend([\": Data\", \": Average BMI per age\"]) \n",
    "plt.title(\"'age' vs. 'bmi' [zoom]\")\n",
    "plt.show()"
   ]
  },
  {
   "cell_type": "code",
   "execution_count": 38,
   "id": "388d4060",
   "metadata": {},
   "outputs": [
    {
     "name": "stdout",
     "output_type": "stream",
     "text": [
      "Number of missing 'bmi' values : 0\n"
     ]
    }
   ],
   "source": [
    "# Check if all missing values are replaced :\n",
    "print(\"Number of missing 'bmi' values : %d\"%df.bmi.isna().sum())\n"
   ]
  },
  {
   "cell_type": "markdown",
   "id": "5a3784fd",
   "metadata": {},
   "source": [
    "## 2.2 Removing attributes"
   ]
  },
  {
   "cell_type": "code",
   "execution_count": 39,
   "id": "aa0cbd6d",
   "metadata": {},
   "outputs": [],
   "source": [
    "# Very small correlation for 'urban_residence'\n",
    "df = df.drop(columns=\"urban_residence\") \n",
    "\n",
    "# Correlations for \"job_never\" and \"gender_female\" are very small too (but not as small). Should be removed too ?"
   ]
  },
  {
   "cell_type": "markdown",
   "id": "fcf0f78e",
   "metadata": {},
   "source": [
    "# 2.3 Scaling of the numerical attributes"
   ]
  },
  {
   "cell_type": "code",
   "execution_count": 40,
   "id": "26ef5964",
   "metadata": {},
   "outputs": [
    {
     "data": {
      "text/html": [
       "<div>\n",
       "<style scoped>\n",
       "    .dataframe tbody tr th:only-of-type {\n",
       "        vertical-align: middle;\n",
       "    }\n",
       "\n",
       "    .dataframe tbody tr th {\n",
       "        vertical-align: top;\n",
       "    }\n",
       "\n",
       "    .dataframe thead th {\n",
       "        text-align: right;\n",
       "    }\n",
       "</style>\n",
       "<table border=\"1\" class=\"dataframe\">\n",
       "  <thead>\n",
       "    <tr style=\"text-align: right;\">\n",
       "      <th></th>\n",
       "      <th>age</th>\n",
       "      <th>bmi</th>\n",
       "      <th>avg_glucose_level</th>\n",
       "    </tr>\n",
       "  </thead>\n",
       "  <tbody>\n",
       "    <tr>\n",
       "      <th>count</th>\n",
       "      <td>5107.000000</td>\n",
       "      <td>5107.000000</td>\n",
       "      <td>5107.000000</td>\n",
       "    </tr>\n",
       "    <tr>\n",
       "      <th>mean</th>\n",
       "      <td>43.236146</td>\n",
       "      <td>28.892771</td>\n",
       "      <td>106.158749</td>\n",
       "    </tr>\n",
       "    <tr>\n",
       "      <th>std</th>\n",
       "      <td>22.614905</td>\n",
       "      <td>7.620215</td>\n",
       "      <td>45.284350</td>\n",
       "    </tr>\n",
       "    <tr>\n",
       "      <th>min</th>\n",
       "      <td>0.080000</td>\n",
       "      <td>10.300000</td>\n",
       "      <td>55.120000</td>\n",
       "    </tr>\n",
       "    <tr>\n",
       "      <th>25%</th>\n",
       "      <td>25.000000</td>\n",
       "      <td>23.700000</td>\n",
       "      <td>77.270000</td>\n",
       "    </tr>\n",
       "    <tr>\n",
       "      <th>50%</th>\n",
       "      <td>45.000000</td>\n",
       "      <td>28.300000</td>\n",
       "      <td>91.890000</td>\n",
       "    </tr>\n",
       "    <tr>\n",
       "      <th>75%</th>\n",
       "      <td>61.000000</td>\n",
       "      <td>32.800000</td>\n",
       "      <td>114.090000</td>\n",
       "    </tr>\n",
       "    <tr>\n",
       "      <th>max</th>\n",
       "      <td>82.000000</td>\n",
       "      <td>78.000000</td>\n",
       "      <td>271.740000</td>\n",
       "    </tr>\n",
       "  </tbody>\n",
       "</table>\n",
       "</div>"
      ],
      "text/plain": [
       "               age          bmi  avg_glucose_level\n",
       "count  5107.000000  5107.000000        5107.000000\n",
       "mean     43.236146    28.892771         106.158749\n",
       "std      22.614905     7.620215          45.284350\n",
       "min       0.080000    10.300000          55.120000\n",
       "25%      25.000000    23.700000          77.270000\n",
       "50%      45.000000    28.300000          91.890000\n",
       "75%      61.000000    32.800000         114.090000\n",
       "max      82.000000    78.000000         271.740000"
      ]
     },
     "execution_count": 40,
     "metadata": {},
     "output_type": "execute_result"
    }
   ],
   "source": [
    "# Scale the numerical columns to be in the range [0-1]:\n",
    "df[[\"age\", \"bmi\", \"avg_glucose_level\"]].describe()"
   ]
  },
  {
   "cell_type": "code",
   "execution_count": 41,
   "id": "024671c7",
   "metadata": {},
   "outputs": [],
   "source": [
    "# Scaling 'age':\n",
    "mini = np.min(df.age)\n",
    "maxi = np.max(df.age)\n",
    "df.age = (df.age - mini) / (maxi - mini)"
   ]
  },
  {
   "cell_type": "code",
   "execution_count": 42,
   "id": "04001585",
   "metadata": {},
   "outputs": [],
   "source": [
    "# Scaling 'bmi' :\n",
    "mini = np.min(df.bmi)\n",
    "maxi = np.max(df.bmi)\n",
    "df.bmi = (df.bmi - mini) / (maxi - mini)"
   ]
  },
  {
   "cell_type": "code",
   "execution_count": 43,
   "id": "f75d433e",
   "metadata": {},
   "outputs": [],
   "source": [
    "# Scaling 'avg_glucose_level' :\n",
    "mini = np.min(df.avg_glucose_level)\n",
    "maxi = np.max(df.avg_glucose_level)\n",
    "df.avg_glucose_level = (df.avg_glucose_level - mini) / (maxi - mini)"
   ]
  },
  {
   "cell_type": "code",
   "execution_count": 44,
   "id": "a9e93e2e",
   "metadata": {},
   "outputs": [
    {
     "data": {
      "text/html": [
       "<div>\n",
       "<style scoped>\n",
       "    .dataframe tbody tr th:only-of-type {\n",
       "        vertical-align: middle;\n",
       "    }\n",
       "\n",
       "    .dataframe tbody tr th {\n",
       "        vertical-align: top;\n",
       "    }\n",
       "\n",
       "    .dataframe thead th {\n",
       "        text-align: right;\n",
       "    }\n",
       "</style>\n",
       "<table border=\"1\" class=\"dataframe\">\n",
       "  <thead>\n",
       "    <tr style=\"text-align: right;\">\n",
       "      <th></th>\n",
       "      <th>age</th>\n",
       "      <th>bmi</th>\n",
       "      <th>avg_glucose_level</th>\n",
       "    </tr>\n",
       "  </thead>\n",
       "  <tbody>\n",
       "    <tr>\n",
       "      <th>count</th>\n",
       "      <td>5107.000000</td>\n",
       "      <td>5107.000000</td>\n",
       "      <td>5107.000000</td>\n",
       "    </tr>\n",
       "    <tr>\n",
       "      <th>mean</th>\n",
       "      <td>0.526808</td>\n",
       "      <td>0.274635</td>\n",
       "      <td>0.235614</td>\n",
       "    </tr>\n",
       "    <tr>\n",
       "      <th>std</th>\n",
       "      <td>0.276061</td>\n",
       "      <td>0.112559</td>\n",
       "      <td>0.209050</td>\n",
       "    </tr>\n",
       "    <tr>\n",
       "      <th>min</th>\n",
       "      <td>0.000000</td>\n",
       "      <td>0.000000</td>\n",
       "      <td>0.000000</td>\n",
       "    </tr>\n",
       "    <tr>\n",
       "      <th>25%</th>\n",
       "      <td>0.304199</td>\n",
       "      <td>0.197932</td>\n",
       "      <td>0.102253</td>\n",
       "    </tr>\n",
       "    <tr>\n",
       "      <th>50%</th>\n",
       "      <td>0.548340</td>\n",
       "      <td>0.265879</td>\n",
       "      <td>0.169744</td>\n",
       "    </tr>\n",
       "    <tr>\n",
       "      <th>75%</th>\n",
       "      <td>0.743652</td>\n",
       "      <td>0.332349</td>\n",
       "      <td>0.272228</td>\n",
       "    </tr>\n",
       "    <tr>\n",
       "      <th>max</th>\n",
       "      <td>1.000000</td>\n",
       "      <td>1.000000</td>\n",
       "      <td>1.000000</td>\n",
       "    </tr>\n",
       "  </tbody>\n",
       "</table>\n",
       "</div>"
      ],
      "text/plain": [
       "               age          bmi  avg_glucose_level\n",
       "count  5107.000000  5107.000000        5107.000000\n",
       "mean      0.526808     0.274635           0.235614\n",
       "std       0.276061     0.112559           0.209050\n",
       "min       0.000000     0.000000           0.000000\n",
       "25%       0.304199     0.197932           0.102253\n",
       "50%       0.548340     0.265879           0.169744\n",
       "75%       0.743652     0.332349           0.272228\n",
       "max       1.000000     1.000000           1.000000"
      ]
     },
     "execution_count": 44,
     "metadata": {},
     "output_type": "execute_result"
    }
   ],
   "source": [
    "# The three attributes are now in the range [0;1]\n",
    "df[[\"age\", \"bmi\", \"avg_glucose_level\"]].describe()"
   ]
  },
  {
   "cell_type": "markdown",
   "id": "fc352504",
   "metadata": {},
   "source": [
    "## 2.4 Final dataset"
   ]
  },
  {
   "cell_type": "code",
   "execution_count": 45,
   "id": "1ccc1626",
   "metadata": {},
   "outputs": [
    {
     "data": {
      "text/html": [
       "<div>\n",
       "<style scoped>\n",
       "    .dataframe tbody tr th:only-of-type {\n",
       "        vertical-align: middle;\n",
       "    }\n",
       "\n",
       "    .dataframe tbody tr th {\n",
       "        vertical-align: top;\n",
       "    }\n",
       "\n",
       "    .dataframe thead th {\n",
       "        text-align: right;\n",
       "    }\n",
       "</style>\n",
       "<table border=\"1\" class=\"dataframe\">\n",
       "  <thead>\n",
       "    <tr style=\"text-align: right;\">\n",
       "      <th></th>\n",
       "      <th>count</th>\n",
       "      <th>mean</th>\n",
       "      <th>std</th>\n",
       "      <th>min</th>\n",
       "      <th>25%</th>\n",
       "      <th>50%</th>\n",
       "      <th>75%</th>\n",
       "      <th>max</th>\n",
       "    </tr>\n",
       "  </thead>\n",
       "  <tbody>\n",
       "    <tr>\n",
       "      <th>gender_female</th>\n",
       "      <td>5107.0</td>\n",
       "      <td>0.413746</td>\n",
       "      <td>0.492552</td>\n",
       "      <td>0.0</td>\n",
       "      <td>0.000000</td>\n",
       "      <td>0.000000</td>\n",
       "      <td>1.000000</td>\n",
       "      <td>1.0</td>\n",
       "    </tr>\n",
       "    <tr>\n",
       "      <th>age</th>\n",
       "      <td>5107.0</td>\n",
       "      <td>0.526808</td>\n",
       "      <td>0.276061</td>\n",
       "      <td>0.0</td>\n",
       "      <td>0.304199</td>\n",
       "      <td>0.548340</td>\n",
       "      <td>0.743652</td>\n",
       "      <td>1.0</td>\n",
       "    </tr>\n",
       "    <tr>\n",
       "      <th>hypertension</th>\n",
       "      <td>5107.0</td>\n",
       "      <td>0.097122</td>\n",
       "      <td>0.296152</td>\n",
       "      <td>0.0</td>\n",
       "      <td>0.000000</td>\n",
       "      <td>0.000000</td>\n",
       "      <td>0.000000</td>\n",
       "      <td>1.0</td>\n",
       "    </tr>\n",
       "    <tr>\n",
       "      <th>heart_disease</th>\n",
       "      <td>5107.0</td>\n",
       "      <td>0.054043</td>\n",
       "      <td>0.226126</td>\n",
       "      <td>0.0</td>\n",
       "      <td>0.000000</td>\n",
       "      <td>0.000000</td>\n",
       "      <td>0.000000</td>\n",
       "      <td>1.0</td>\n",
       "    </tr>\n",
       "    <tr>\n",
       "      <th>ever_married</th>\n",
       "      <td>5107.0</td>\n",
       "      <td>0.656354</td>\n",
       "      <td>0.474971</td>\n",
       "      <td>0.0</td>\n",
       "      <td>0.000000</td>\n",
       "      <td>1.000000</td>\n",
       "      <td>1.000000</td>\n",
       "      <td>1.0</td>\n",
       "    </tr>\n",
       "    <tr>\n",
       "      <th>avg_glucose_level</th>\n",
       "      <td>5107.0</td>\n",
       "      <td>0.235614</td>\n",
       "      <td>0.209050</td>\n",
       "      <td>0.0</td>\n",
       "      <td>0.102253</td>\n",
       "      <td>0.169744</td>\n",
       "      <td>0.272228</td>\n",
       "      <td>1.0</td>\n",
       "    </tr>\n",
       "    <tr>\n",
       "      <th>bmi</th>\n",
       "      <td>5107.0</td>\n",
       "      <td>0.274635</td>\n",
       "      <td>0.112559</td>\n",
       "      <td>0.0</td>\n",
       "      <td>0.197932</td>\n",
       "      <td>0.265879</td>\n",
       "      <td>0.332349</td>\n",
       "      <td>1.0</td>\n",
       "    </tr>\n",
       "    <tr>\n",
       "      <th>stroke</th>\n",
       "      <td>5107.0</td>\n",
       "      <td>0.048757</td>\n",
       "      <td>0.215380</td>\n",
       "      <td>0.0</td>\n",
       "      <td>0.000000</td>\n",
       "      <td>0.000000</td>\n",
       "      <td>0.000000</td>\n",
       "      <td>1.0</td>\n",
       "    </tr>\n",
       "    <tr>\n",
       "      <th>job_government</th>\n",
       "      <td>5107.0</td>\n",
       "      <td>0.128647</td>\n",
       "      <td>0.334842</td>\n",
       "      <td>0.0</td>\n",
       "      <td>0.000000</td>\n",
       "      <td>0.000000</td>\n",
       "      <td>0.000000</td>\n",
       "      <td>1.0</td>\n",
       "    </tr>\n",
       "    <tr>\n",
       "      <th>job_never</th>\n",
       "      <td>5107.0</td>\n",
       "      <td>0.004308</td>\n",
       "      <td>0.065499</td>\n",
       "      <td>0.0</td>\n",
       "      <td>0.000000</td>\n",
       "      <td>0.000000</td>\n",
       "      <td>0.000000</td>\n",
       "      <td>1.0</td>\n",
       "    </tr>\n",
       "    <tr>\n",
       "      <th>job_private</th>\n",
       "      <td>5107.0</td>\n",
       "      <td>0.572156</td>\n",
       "      <td>0.494815</td>\n",
       "      <td>0.0</td>\n",
       "      <td>0.000000</td>\n",
       "      <td>1.000000</td>\n",
       "      <td>1.000000</td>\n",
       "      <td>1.0</td>\n",
       "    </tr>\n",
       "    <tr>\n",
       "      <th>job_selfemployed</th>\n",
       "      <td>5107.0</td>\n",
       "      <td>0.160368</td>\n",
       "      <td>0.366983</td>\n",
       "      <td>0.0</td>\n",
       "      <td>0.000000</td>\n",
       "      <td>0.000000</td>\n",
       "      <td>0.000000</td>\n",
       "      <td>1.0</td>\n",
       "    </tr>\n",
       "    <tr>\n",
       "      <th>job_children</th>\n",
       "      <td>5107.0</td>\n",
       "      <td>0.134521</td>\n",
       "      <td>0.341245</td>\n",
       "      <td>0.0</td>\n",
       "      <td>0.000000</td>\n",
       "      <td>0.000000</td>\n",
       "      <td>0.000000</td>\n",
       "      <td>1.0</td>\n",
       "    </tr>\n",
       "    <tr>\n",
       "      <th>smoker_unknown</th>\n",
       "      <td>5107.0</td>\n",
       "      <td>0.302134</td>\n",
       "      <td>0.459228</td>\n",
       "      <td>0.0</td>\n",
       "      <td>0.000000</td>\n",
       "      <td>0.000000</td>\n",
       "      <td>1.000000</td>\n",
       "      <td>1.0</td>\n",
       "    </tr>\n",
       "    <tr>\n",
       "      <th>smoker_formerly</th>\n",
       "      <td>5107.0</td>\n",
       "      <td>0.173096</td>\n",
       "      <td>0.378367</td>\n",
       "      <td>0.0</td>\n",
       "      <td>0.000000</td>\n",
       "      <td>0.000000</td>\n",
       "      <td>0.000000</td>\n",
       "      <td>1.0</td>\n",
       "    </tr>\n",
       "    <tr>\n",
       "      <th>smoker_never</th>\n",
       "      <td>5107.0</td>\n",
       "      <td>0.370276</td>\n",
       "      <td>0.482926</td>\n",
       "      <td>0.0</td>\n",
       "      <td>0.000000</td>\n",
       "      <td>0.000000</td>\n",
       "      <td>1.000000</td>\n",
       "      <td>1.0</td>\n",
       "    </tr>\n",
       "    <tr>\n",
       "      <th>smoker</th>\n",
       "      <td>5107.0</td>\n",
       "      <td>0.154494</td>\n",
       "      <td>0.361457</td>\n",
       "      <td>0.0</td>\n",
       "      <td>0.000000</td>\n",
       "      <td>0.000000</td>\n",
       "      <td>0.000000</td>\n",
       "      <td>1.0</td>\n",
       "    </tr>\n",
       "  </tbody>\n",
       "</table>\n",
       "</div>"
      ],
      "text/plain": [
       "                    count      mean       std  min       25%       50%  \\\n",
       "gender_female      5107.0  0.413746  0.492552  0.0  0.000000  0.000000   \n",
       "age                5107.0  0.526808  0.276061  0.0  0.304199  0.548340   \n",
       "hypertension       5107.0  0.097122  0.296152  0.0  0.000000  0.000000   \n",
       "heart_disease      5107.0  0.054043  0.226126  0.0  0.000000  0.000000   \n",
       "ever_married       5107.0  0.656354  0.474971  0.0  0.000000  1.000000   \n",
       "avg_glucose_level  5107.0  0.235614  0.209050  0.0  0.102253  0.169744   \n",
       "bmi                5107.0  0.274635  0.112559  0.0  0.197932  0.265879   \n",
       "stroke             5107.0  0.048757  0.215380  0.0  0.000000  0.000000   \n",
       "job_government     5107.0  0.128647  0.334842  0.0  0.000000  0.000000   \n",
       "job_never          5107.0  0.004308  0.065499  0.0  0.000000  0.000000   \n",
       "job_private        5107.0  0.572156  0.494815  0.0  0.000000  1.000000   \n",
       "job_selfemployed   5107.0  0.160368  0.366983  0.0  0.000000  0.000000   \n",
       "job_children       5107.0  0.134521  0.341245  0.0  0.000000  0.000000   \n",
       "smoker_unknown     5107.0  0.302134  0.459228  0.0  0.000000  0.000000   \n",
       "smoker_formerly    5107.0  0.173096  0.378367  0.0  0.000000  0.000000   \n",
       "smoker_never       5107.0  0.370276  0.482926  0.0  0.000000  0.000000   \n",
       "smoker             5107.0  0.154494  0.361457  0.0  0.000000  0.000000   \n",
       "\n",
       "                        75%  max  \n",
       "gender_female      1.000000  1.0  \n",
       "age                0.743652  1.0  \n",
       "hypertension       0.000000  1.0  \n",
       "heart_disease      0.000000  1.0  \n",
       "ever_married       1.000000  1.0  \n",
       "avg_glucose_level  0.272228  1.0  \n",
       "bmi                0.332349  1.0  \n",
       "stroke             0.000000  1.0  \n",
       "job_government     0.000000  1.0  \n",
       "job_never          0.000000  1.0  \n",
       "job_private        1.000000  1.0  \n",
       "job_selfemployed   0.000000  1.0  \n",
       "job_children       0.000000  1.0  \n",
       "smoker_unknown     1.000000  1.0  \n",
       "smoker_formerly    0.000000  1.0  \n",
       "smoker_never       1.000000  1.0  \n",
       "smoker             0.000000  1.0  "
      ]
     },
     "execution_count": 45,
     "metadata": {},
     "output_type": "execute_result"
    }
   ],
   "source": [
    "df.describe().transpose()"
   ]
  },
  {
   "cell_type": "code",
   "execution_count": 46,
   "id": "8d5f16a7",
   "metadata": {},
   "outputs": [
    {
     "data": {
      "text/html": [
       "<div>\n",
       "<style scoped>\n",
       "    .dataframe tbody tr th:only-of-type {\n",
       "        vertical-align: middle;\n",
       "    }\n",
       "\n",
       "    .dataframe tbody tr th {\n",
       "        vertical-align: top;\n",
       "    }\n",
       "\n",
       "    .dataframe thead th {\n",
       "        text-align: right;\n",
       "    }\n",
       "</style>\n",
       "<table border=\"1\" class=\"dataframe\">\n",
       "  <thead>\n",
       "    <tr style=\"text-align: right;\">\n",
       "      <th></th>\n",
       "      <th>gender_female</th>\n",
       "      <th>age</th>\n",
       "      <th>hypertension</th>\n",
       "      <th>heart_disease</th>\n",
       "      <th>ever_married</th>\n",
       "      <th>avg_glucose_level</th>\n",
       "      <th>bmi</th>\n",
       "      <th>stroke</th>\n",
       "      <th>job_government</th>\n",
       "      <th>job_never</th>\n",
       "      <th>job_private</th>\n",
       "      <th>job_selfemployed</th>\n",
       "      <th>job_children</th>\n",
       "      <th>smoker_unknown</th>\n",
       "      <th>smoker_formerly</th>\n",
       "      <th>smoker_never</th>\n",
       "      <th>smoker</th>\n",
       "    </tr>\n",
       "    <tr>\n",
       "      <th>id</th>\n",
       "      <th></th>\n",
       "      <th></th>\n",
       "      <th></th>\n",
       "      <th></th>\n",
       "      <th></th>\n",
       "      <th></th>\n",
       "      <th></th>\n",
       "      <th></th>\n",
       "      <th></th>\n",
       "      <th></th>\n",
       "      <th></th>\n",
       "      <th></th>\n",
       "      <th></th>\n",
       "      <th></th>\n",
       "      <th></th>\n",
       "      <th></th>\n",
       "      <th></th>\n",
       "    </tr>\n",
       "  </thead>\n",
       "  <tbody>\n",
       "    <tr>\n",
       "      <th>9046</th>\n",
       "      <td>1</td>\n",
       "      <td>0.816895</td>\n",
       "      <td>0</td>\n",
       "      <td>1</td>\n",
       "      <td>1</td>\n",
       "      <td>0.801265</td>\n",
       "      <td>0.388479</td>\n",
       "      <td>1</td>\n",
       "      <td>0</td>\n",
       "      <td>0</td>\n",
       "      <td>1</td>\n",
       "      <td>0</td>\n",
       "      <td>0</td>\n",
       "      <td>0</td>\n",
       "      <td>1</td>\n",
       "      <td>0</td>\n",
       "      <td>0</td>\n",
       "    </tr>\n",
       "    <tr>\n",
       "      <th>51676</th>\n",
       "      <td>0</td>\n",
       "      <td>0.743652</td>\n",
       "      <td>0</td>\n",
       "      <td>0</td>\n",
       "      <td>1</td>\n",
       "      <td>0.679023</td>\n",
       "      <td>0.293796</td>\n",
       "      <td>1</td>\n",
       "      <td>0</td>\n",
       "      <td>0</td>\n",
       "      <td>0</td>\n",
       "      <td>1</td>\n",
       "      <td>0</td>\n",
       "      <td>0</td>\n",
       "      <td>0</td>\n",
       "      <td>1</td>\n",
       "      <td>0</td>\n",
       "    </tr>\n",
       "    <tr>\n",
       "      <th>31112</th>\n",
       "      <td>1</td>\n",
       "      <td>0.975586</td>\n",
       "      <td>0</td>\n",
       "      <td>1</td>\n",
       "      <td>1</td>\n",
       "      <td>0.234512</td>\n",
       "      <td>0.327917</td>\n",
       "      <td>1</td>\n",
       "      <td>0</td>\n",
       "      <td>0</td>\n",
       "      <td>1</td>\n",
       "      <td>0</td>\n",
       "      <td>0</td>\n",
       "      <td>0</td>\n",
       "      <td>0</td>\n",
       "      <td>1</td>\n",
       "      <td>0</td>\n",
       "    </tr>\n",
       "    <tr>\n",
       "      <th>60182</th>\n",
       "      <td>0</td>\n",
       "      <td>0.597168</td>\n",
       "      <td>0</td>\n",
       "      <td>0</td>\n",
       "      <td>1</td>\n",
       "      <td>0.536008</td>\n",
       "      <td>0.355982</td>\n",
       "      <td>1</td>\n",
       "      <td>0</td>\n",
       "      <td>0</td>\n",
       "      <td>1</td>\n",
       "      <td>0</td>\n",
       "      <td>0</td>\n",
       "      <td>0</td>\n",
       "      <td>0</td>\n",
       "      <td>0</td>\n",
       "      <td>1</td>\n",
       "    </tr>\n",
       "    <tr>\n",
       "      <th>1665</th>\n",
       "      <td>0</td>\n",
       "      <td>0.963379</td>\n",
       "      <td>1</td>\n",
       "      <td>0</td>\n",
       "      <td>1</td>\n",
       "      <td>0.549349</td>\n",
       "      <td>0.202363</td>\n",
       "      <td>1</td>\n",
       "      <td>0</td>\n",
       "      <td>0</td>\n",
       "      <td>0</td>\n",
       "      <td>1</td>\n",
       "      <td>0</td>\n",
       "      <td>0</td>\n",
       "      <td>0</td>\n",
       "      <td>1</td>\n",
       "      <td>0</td>\n",
       "    </tr>\n",
       "    <tr>\n",
       "      <th>...</th>\n",
       "      <td>...</td>\n",
       "      <td>...</td>\n",
       "      <td>...</td>\n",
       "      <td>...</td>\n",
       "      <td>...</td>\n",
       "      <td>...</td>\n",
       "      <td>...</td>\n",
       "      <td>...</td>\n",
       "      <td>...</td>\n",
       "      <td>...</td>\n",
       "      <td>...</td>\n",
       "      <td>...</td>\n",
       "      <td>...</td>\n",
       "      <td>...</td>\n",
       "      <td>...</td>\n",
       "      <td>...</td>\n",
       "      <td>...</td>\n",
       "    </tr>\n",
       "    <tr>\n",
       "      <th>18234</th>\n",
       "      <td>0</td>\n",
       "      <td>0.975586</td>\n",
       "      <td>1</td>\n",
       "      <td>0</td>\n",
       "      <td>1</td>\n",
       "      <td>0.132167</td>\n",
       "      <td>0.273022</td>\n",
       "      <td>0</td>\n",
       "      <td>0</td>\n",
       "      <td>0</td>\n",
       "      <td>1</td>\n",
       "      <td>0</td>\n",
       "      <td>0</td>\n",
       "      <td>0</td>\n",
       "      <td>0</td>\n",
       "      <td>1</td>\n",
       "      <td>0</td>\n",
       "    </tr>\n",
       "    <tr>\n",
       "      <th>44873</th>\n",
       "      <td>0</td>\n",
       "      <td>0.987793</td>\n",
       "      <td>0</td>\n",
       "      <td>0</td>\n",
       "      <td>1</td>\n",
       "      <td>0.323516</td>\n",
       "      <td>0.438700</td>\n",
       "      <td>0</td>\n",
       "      <td>0</td>\n",
       "      <td>0</td>\n",
       "      <td>0</td>\n",
       "      <td>1</td>\n",
       "      <td>0</td>\n",
       "      <td>0</td>\n",
       "      <td>0</td>\n",
       "      <td>1</td>\n",
       "      <td>0</td>\n",
       "    </tr>\n",
       "    <tr>\n",
       "      <th>19723</th>\n",
       "      <td>0</td>\n",
       "      <td>0.426270</td>\n",
       "      <td>0</td>\n",
       "      <td>0</td>\n",
       "      <td>1</td>\n",
       "      <td>0.128658</td>\n",
       "      <td>0.299852</td>\n",
       "      <td>0</td>\n",
       "      <td>0</td>\n",
       "      <td>0</td>\n",
       "      <td>0</td>\n",
       "      <td>1</td>\n",
       "      <td>0</td>\n",
       "      <td>0</td>\n",
       "      <td>0</td>\n",
       "      <td>1</td>\n",
       "      <td>0</td>\n",
       "    </tr>\n",
       "    <tr>\n",
       "      <th>37544</th>\n",
       "      <td>1</td>\n",
       "      <td>0.621582</td>\n",
       "      <td>0</td>\n",
       "      <td>0</td>\n",
       "      <td>1</td>\n",
       "      <td>0.513203</td>\n",
       "      <td>0.225997</td>\n",
       "      <td>0</td>\n",
       "      <td>0</td>\n",
       "      <td>0</td>\n",
       "      <td>1</td>\n",
       "      <td>0</td>\n",
       "      <td>0</td>\n",
       "      <td>0</td>\n",
       "      <td>1</td>\n",
       "      <td>0</td>\n",
       "      <td>0</td>\n",
       "    </tr>\n",
       "    <tr>\n",
       "      <th>44679</th>\n",
       "      <td>0</td>\n",
       "      <td>0.536133</td>\n",
       "      <td>0</td>\n",
       "      <td>0</td>\n",
       "      <td>1</td>\n",
       "      <td>0.139230</td>\n",
       "      <td>0.234860</td>\n",
       "      <td>0</td>\n",
       "      <td>1</td>\n",
       "      <td>0</td>\n",
       "      <td>0</td>\n",
       "      <td>0</td>\n",
       "      <td>0</td>\n",
       "      <td>1</td>\n",
       "      <td>0</td>\n",
       "      <td>0</td>\n",
       "      <td>0</td>\n",
       "    </tr>\n",
       "  </tbody>\n",
       "</table>\n",
       "<p>5107 rows × 17 columns</p>\n",
       "</div>"
      ],
      "text/plain": [
       "       gender_female       age  hypertension  heart_disease  ever_married  \\\n",
       "id                                                                          \n",
       "9046               1  0.816895             0              1             1   \n",
       "51676              0  0.743652             0              0             1   \n",
       "31112              1  0.975586             0              1             1   \n",
       "60182              0  0.597168             0              0             1   \n",
       "1665               0  0.963379             1              0             1   \n",
       "...              ...       ...           ...            ...           ...   \n",
       "18234              0  0.975586             1              0             1   \n",
       "44873              0  0.987793             0              0             1   \n",
       "19723              0  0.426270             0              0             1   \n",
       "37544              1  0.621582             0              0             1   \n",
       "44679              0  0.536133             0              0             1   \n",
       "\n",
       "       avg_glucose_level       bmi  stroke  job_government  job_never  \\\n",
       "id                                                                      \n",
       "9046            0.801265  0.388479       1               0          0   \n",
       "51676           0.679023  0.293796       1               0          0   \n",
       "31112           0.234512  0.327917       1               0          0   \n",
       "60182           0.536008  0.355982       1               0          0   \n",
       "1665            0.549349  0.202363       1               0          0   \n",
       "...                  ...       ...     ...             ...        ...   \n",
       "18234           0.132167  0.273022       0               0          0   \n",
       "44873           0.323516  0.438700       0               0          0   \n",
       "19723           0.128658  0.299852       0               0          0   \n",
       "37544           0.513203  0.225997       0               0          0   \n",
       "44679           0.139230  0.234860       0               1          0   \n",
       "\n",
       "       job_private  job_selfemployed  job_children  smoker_unknown  \\\n",
       "id                                                                   \n",
       "9046             1                 0             0               0   \n",
       "51676            0                 1             0               0   \n",
       "31112            1                 0             0               0   \n",
       "60182            1                 0             0               0   \n",
       "1665             0                 1             0               0   \n",
       "...            ...               ...           ...             ...   \n",
       "18234            1                 0             0               0   \n",
       "44873            0                 1             0               0   \n",
       "19723            0                 1             0               0   \n",
       "37544            1                 0             0               0   \n",
       "44679            0                 0             0               1   \n",
       "\n",
       "       smoker_formerly  smoker_never  smoker  \n",
       "id                                            \n",
       "9046                 1             0       0  \n",
       "51676                0             1       0  \n",
       "31112                0             1       0  \n",
       "60182                0             0       1  \n",
       "1665                 0             1       0  \n",
       "...                ...           ...     ...  \n",
       "18234                0             1       0  \n",
       "44873                0             1       0  \n",
       "19723                0             1       0  \n",
       "37544                1             0       0  \n",
       "44679                0             0       0  \n",
       "\n",
       "[5107 rows x 17 columns]"
      ]
     },
     "execution_count": 46,
     "metadata": {},
     "output_type": "execute_result"
    }
   ],
   "source": [
    "df"
   ]
  },
  {
   "cell_type": "markdown",
   "id": "1d7e0146",
   "metadata": {},
   "source": [
    "# 3. Modeling"
   ]
  },
  {
   "cell_type": "markdown",
   "id": "ad286cf7",
   "metadata": {},
   "source": [
    "## 3.1 Dataset splitting"
   ]
  },
  {
   "cell_type": "markdown",
   "id": "b1bdad1b",
   "metadata": {},
   "source": [
    "The dataset is split into :\n",
    "\n",
    "- training set\n",
    " - x_train : data for training\n",
    " - y_train : solution for training\n",
    "- testing set --\n",
    " - x_test : data for testing\n",
    " - y_test : solution for testing"
   ]
  },
  {
   "cell_type": "markdown",
   "id": "33ab4d0f",
   "metadata": {},
   "source": [
    "K-fold is applied with k=5"
   ]
  },
  {
   "cell_type": "code",
   "execution_count": 47,
   "id": "bcd05ea1",
   "metadata": {},
   "outputs": [],
   "source": [
    "x = df.loc[:, df.columns != 'stroke'] # data\n",
    "y = df.loc[:, df.columns == 'stroke'] # target\n",
    "\n",
    "# Store all the sets:\n",
    "x_train = []\n",
    "y_train = []\n",
    "x_test  = []\n",
    "y_test  = []\n",
    "\n",
    "# k-fold spliting (k=5):\n",
    "strat_kfold = StratifiedKFold(n_splits = 5)\n",
    "for train_index, test_index in strat_kfold.split(x, y):\n",
    "  # Values for the training data:\n",
    "  x_train.append( x.iloc[train_index,:])\n",
    "  y_train.append( y.iloc[train_index,:])\n",
    "\n",
    "  # Values for the test data:\n",
    "  x_test.append( x.iloc[test_index,:])\n",
    "  y_test.append( y.iloc[test_index,:])"
   ]
  },
  {
   "cell_type": "code",
   "execution_count": 48,
   "id": "0542ad53",
   "metadata": {},
   "outputs": [
    {
     "data": {
      "text/plain": [
       "5"
      ]
     },
     "execution_count": 48,
     "metadata": {},
     "output_type": "execute_result"
    }
   ],
   "source": [
    "len(x_train)"
   ]
  },
  {
   "cell_type": "markdown",
   "id": "bbacba1f",
   "metadata": {},
   "source": [
    "## 3.2 Class imbalance"
   ]
  },
  {
   "cell_type": "markdown",
   "id": "39c4f975",
   "metadata": {},
   "source": [
    "The target attribute ('stroke') is ill-represented (much better '0' than '1').\n",
    "We are in the case of class imbalance.\n",
    "\n",
    "The dataset of over-sampled using SMOTE technique."
   ]
  },
  {
   "cell_type": "code",
   "execution_count": 141,
   "id": "a6358329",
   "metadata": {},
   "outputs": [
    {
     "data": {
      "image/png": "[encoded data removed]",
      "text/plain": [
       "<Figure size 1008x504 with 3 Axes>"
      ]
     },
     "metadata": {
      "needs_background": "light"
     },
     "output_type": "display_data"
    }
   ],
   "source": [
    "# Distribution of the dataset before oversampling:\n",
    "df_0 = df[df.stroke==0]\n",
    "df_1 = df[df.stroke==1]\n",
    "\n",
    "plt.figure(figsize=(14,7))\n",
    "plt.subplots_adjust(hspace=0.4, wspace=0.05)\n",
    "\n",
    "plt.subplot(2,2,1)\n",
    "plt.scatter(df_0.age, df_0.bmi, c='#1f77b4')\n",
    "plt.scatter(df_1.age, df_1.bmi, c='#ff7f0e')\n",
    "plt.xlabel(\"Age\")\n",
    "plt.ylabel(\"BMI\")\n",
    "plt.legend([\": stroke = 0\", \": stroke = 1\"])\n",
    "plt.title(\"Target feature without SMOTE oversampling\")\n",
    "\n",
    "\n",
    "ax = plt.subplot(2,2,2)\n",
    "ax.yaxis.set_label_position(\"right\")\n",
    "ax.yaxis.tick_right()\n",
    "plt.scatter(df_0.avg_glucose_level, df_0.bmi, c='#1f77b4')\n",
    "plt.scatter(df_1.avg_glucose_level, df_1.bmi, c='#ff7f0e')\n",
    "plt.xlabel(\"Average Glucose Level\")\n",
    "plt.ylabel(\"BMI\")\n",
    "\n",
    "plt.subplot(2,2,3)\n",
    "plt.scatter(df_0.age, df_0.avg_glucose_level, c='#1f77b4')\n",
    "plt.scatter(df_1.age, df_1.avg_glucose_level, c='#ff7f0e')\n",
    "plt.xlabel(\"Age\")\n",
    "plt.ylabel(\"Average Glucose Level\")\n",
    "\n",
    "plt.show()"
   ]
  },
  {
   "cell_type": "code",
   "execution_count": 134,
   "id": "c0a6e50f",
   "metadata": {},
   "outputs": [
    {
     "name": "stdout",
     "output_type": "stream",
     "text": [
      "(5107, 17)\n",
      "(7772, 16) (7772, 1)\n",
      "(7772, 16) (7772, 1)\n",
      "(7774, 16) (7774, 1)\n"
     ]
    }
   ],
   "source": [
    "smote = SMOTE(sampling_strategy='minority', random_state=0)\n",
    "\n",
    "x_train_smote = []\n",
    "y_train_smote = []\n",
    "train_smote = []\n",
    "\n",
    "for k in range(len(x_train)):\n",
    "  x_train_tmp, y_train_tmp = smote.fit_resample(x_train[k], y_train[k])\n",
    "  x_train_smote.append(x_train_tmp)\n",
    "  y_train_smote.append(y_train_tmp)"
   ]
  },
  {
   "cell_type": "code",
   "execution_count": 196,
   "id": "c16ea3af",
   "metadata": {},
   "outputs": [
    {
     "data": {
      "image/png": "[encoded data removed]",
      "text/plain": [
       "<Figure size 1008x504 with 3 Axes>"
      ]
     },
     "metadata": {
      "needs_background": "light"
     },
     "output_type": "display_data"
    }
   ],
   "source": [
    "# Distribution of the dataset after oversampling:\n",
    "\n",
    "# Look at data of the first fold:\n",
    "df_smote = pd.concat([x_train_smote[0], y_train_smote[0]], axis=1)\n",
    "\n",
    "df_0 = df_smote[df_smote.stroke==0]\n",
    "df_1 = df_smote[df_smote.stroke==1]\n",
    "\n",
    "plt.figure(figsize=(14,7))\n",
    "plt.subplots_adjust(hspace=0.4, wspace=0.05)\n",
    "\n",
    "plt.subplot(2,2,1)\n",
    "plt.scatter(df_0.age, df_0.bmi, c='#1f77b4')\n",
    "plt.scatter(df_1.age, df_1.bmi, c='#ff7f0e')\n",
    "plt.xlabel(\"Age\")\n",
    "plt.ylabel(\"BMI\")\n",
    "plt.legend([\": stroke = 0\", \": stroke = 1\"])\n",
    "plt.title(\"Target feature with SMOTE oversampling (first fold)\")\n",
    "\n",
    "\n",
    "ax = plt.subplot(2,2,2)\n",
    "ax.yaxis.set_label_position(\"right\")\n",
    "ax.yaxis.tick_right()\n",
    "plt.scatter(df_0.avg_glucose_level, df_0.bmi, c='#1f77b4')\n",
    "plt.scatter(df_1.avg_glucose_level, df_1.bmi, c='#ff7f0e')\n",
    "plt.xlabel(\"Average Glucose Level\")\n",
    "plt.ylabel(\"BMI\")\n",
    "\n",
    "plt.subplot(2,2,3)\n",
    "plt.scatter(df_0.age, df_0.avg_glucose_level, c='#1f77b4')\n",
    "plt.scatter(df_1.age, df_1.avg_glucose_level, c='#ff7f0e')\n",
    "plt.xlabel(\"Age\")\n",
    "plt.ylabel(\"Average Glucose Level\")\n",
    "\n",
    "plt.show()"
   ]
  },
  {
   "cell_type": "code",
   "execution_count": 249,
   "id": "b725bbd5",
   "metadata": {},
   "outputs": [],
   "source": [
    "def calc_model(model, x_train, y_train, y_test):\n",
    "  \"\"\"\n",
    "  Function to computed the estimated data and the metrics\n",
    "  \"\"\"\n",
    "  y_predicted   = [] # Save all predicted data\n",
    "  cf            = []\n",
    "  reports       = [] # save all reports \n",
    "  process_times = []\n",
    "  metrics       = pd.DataFrame(columns=[\"Recall\", \"Precision\", \"F1-score\", \"Accuracy\"])\n",
    "     \n",
    "  for k in range(len(x_train)):\n",
    "    t0 = process_time()\n",
    "    clf = model.fit(X=x_train[k], y=y_train[k].values.ravel())\n",
    "    t1 = process_time()\n",
    "\n",
    "    process_times.append(t1-t0) # Save the processing time\n",
    "\n",
    "    # Get the predicted model:\n",
    "    y_predicted.append( model.predict(x_test[k]))\n",
    "\n",
    "    # Compute the confusion matrix:\n",
    "    cf.append( pd.DataFrame(columns=[\"data_0\",\"data_1\"],index=[\"model_0\",\"model_1\"]))\n",
    "    cf[k].loc[:,:] = confusion_matrix(y_true=y_test[k], y_pred=y_predicted[k])/len(y_test[k])\n",
    "\n",
    "    #  Compute smote metrics:\n",
    "    metrics.loc[k, \"Recall\"]    = recall_score   (y_true=y_test[k], y_pred=y_predicted[k], zero_division=0)\n",
    "    metrics.loc[k, \"Precision\"] = precision_score(y_true=y_test[k], y_pred=y_predicted[k], zero_division=0)\n",
    "    metrics.loc[k, \"F1-score\"]  = f1_score       (y_true=y_test[k], y_pred=y_predicted[k], zero_division=0)\n",
    "    metrics.loc[k, \"Accuracy\"]  = accuracy_score (y_true=y_test[k], y_pred=y_predicted[k])\n",
    "\n",
    "    # Get smote report:\n",
    "    reports.append( classification_report(y_true=y_test[k], y_pred=y_predicted[k], zero_division=0))\n",
    "   \n",
    "  return y_predicted, cf, metrics, report, process_times"
   ]
  },
  {
   "cell_type": "markdown",
   "id": "8c4b2f83",
   "metadata": {},
   "source": [
    "## 3.3 Logistic regression"
   ]
  },
  {
   "cell_type": "code",
   "execution_count": 250,
   "id": "1327104b",
   "metadata": {},
   "outputs": [],
   "source": [
    "model = LogisticRegression(random_state=0, max_iter=1000)\n",
    "y_predicted, cf, metrics, report, process_times = calc_model(model, x_train_smote, y_train_smote, y_test)"
   ]
  },
  {
   "cell_type": "code",
   "execution_count": 251,
   "id": "2666208a",
   "metadata": {},
   "outputs": [
    {
     "name": "stdout",
     "output_type": "stream",
     "text": [
      "Average process time: 0.175 s\n"
     ]
    }
   ],
   "source": [
    "print(\"Average process time: %4.3f s\"%np.mean(process_times))"
   ]
  },
  {
   "cell_type": "code",
   "execution_count": 252,
   "id": "0b8a0345",
   "metadata": {},
   "outputs": [
    {
     "data": {
      "text/html": [
       "<div>\n",
       "<style scoped>\n",
       "    .dataframe tbody tr th:only-of-type {\n",
       "        vertical-align: middle;\n",
       "    }\n",
       "\n",
       "    .dataframe tbody tr th {\n",
       "        vertical-align: top;\n",
       "    }\n",
       "\n",
       "    .dataframe thead th {\n",
       "        text-align: right;\n",
       "    }\n",
       "</style>\n",
       "<table border=\"1\" class=\"dataframe\">\n",
       "  <thead>\n",
       "    <tr style=\"text-align: right;\">\n",
       "      <th></th>\n",
       "      <th>data_0</th>\n",
       "      <th>data_1</th>\n",
       "    </tr>\n",
       "  </thead>\n",
       "  <tbody>\n",
       "    <tr>\n",
       "      <th>model_0</th>\n",
       "      <td>0.720157</td>\n",
       "      <td>0.23092</td>\n",
       "    </tr>\n",
       "    <tr>\n",
       "      <th>model_1</th>\n",
       "      <td>0.01272</td>\n",
       "      <td>0.036204</td>\n",
       "    </tr>\n",
       "  </tbody>\n",
       "</table>\n",
       "</div>"
      ],
      "text/plain": [
       "           data_0    data_1\n",
       "model_0  0.720157   0.23092\n",
       "model_1   0.01272  0.036204"
      ]
     },
     "metadata": {},
     "output_type": "display_data"
    },
    {
     "data": {
      "text/html": [
       "<div>\n",
       "<style scoped>\n",
       "    .dataframe tbody tr th:only-of-type {\n",
       "        vertical-align: middle;\n",
       "    }\n",
       "\n",
       "    .dataframe tbody tr th {\n",
       "        vertical-align: top;\n",
       "    }\n",
       "\n",
       "    .dataframe thead th {\n",
       "        text-align: right;\n",
       "    }\n",
       "</style>\n",
       "<table border=\"1\" class=\"dataframe\">\n",
       "  <thead>\n",
       "    <tr style=\"text-align: right;\">\n",
       "      <th></th>\n",
       "      <th>data_0</th>\n",
       "      <th>data_1</th>\n",
       "    </tr>\n",
       "  </thead>\n",
       "  <tbody>\n",
       "    <tr>\n",
       "      <th>model_0</th>\n",
       "      <td>0.7182</td>\n",
       "      <td>0.232877</td>\n",
       "    </tr>\n",
       "    <tr>\n",
       "      <th>model_1</th>\n",
       "      <td>0.013699</td>\n",
       "      <td>0.035225</td>\n",
       "    </tr>\n",
       "  </tbody>\n",
       "</table>\n",
       "</div>"
      ],
      "text/plain": [
       "           data_0    data_1\n",
       "model_0    0.7182  0.232877\n",
       "model_1  0.013699  0.035225"
      ]
     },
     "metadata": {},
     "output_type": "display_data"
    },
    {
     "data": {
      "text/html": [
       "<div>\n",
       "<style scoped>\n",
       "    .dataframe tbody tr th:only-of-type {\n",
       "        vertical-align: middle;\n",
       "    }\n",
       "\n",
       "    .dataframe tbody tr th {\n",
       "        vertical-align: top;\n",
       "    }\n",
       "\n",
       "    .dataframe thead th {\n",
       "        text-align: right;\n",
       "    }\n",
       "</style>\n",
       "<table border=\"1\" class=\"dataframe\">\n",
       "  <thead>\n",
       "    <tr style=\"text-align: right;\">\n",
       "      <th></th>\n",
       "      <th>data_0</th>\n",
       "      <th>data_1</th>\n",
       "    </tr>\n",
       "  </thead>\n",
       "  <tbody>\n",
       "    <tr>\n",
       "      <th>model_0</th>\n",
       "      <td>0.688541</td>\n",
       "      <td>0.262488</td>\n",
       "    </tr>\n",
       "    <tr>\n",
       "      <th>model_1</th>\n",
       "      <td>0.010774</td>\n",
       "      <td>0.038198</td>\n",
       "    </tr>\n",
       "  </tbody>\n",
       "</table>\n",
       "</div>"
      ],
      "text/plain": [
       "           data_0    data_1\n",
       "model_0  0.688541  0.262488\n",
       "model_1  0.010774  0.038198"
      ]
     },
     "metadata": {},
     "output_type": "display_data"
    },
    {
     "data": {
      "text/html": [
       "<div>\n",
       "<style scoped>\n",
       "    .dataframe tbody tr th:only-of-type {\n",
       "        vertical-align: middle;\n",
       "    }\n",
       "\n",
       "    .dataframe tbody tr th {\n",
       "        vertical-align: top;\n",
       "    }\n",
       "\n",
       "    .dataframe thead th {\n",
       "        text-align: right;\n",
       "    }\n",
       "</style>\n",
       "<table border=\"1\" class=\"dataframe\">\n",
       "  <thead>\n",
       "    <tr style=\"text-align: right;\">\n",
       "      <th></th>\n",
       "      <th>data_0</th>\n",
       "      <th>data_1</th>\n",
       "    </tr>\n",
       "  </thead>\n",
       "  <tbody>\n",
       "    <tr>\n",
       "      <th>model_0</th>\n",
       "      <td>0.705191</td>\n",
       "      <td>0.245837</td>\n",
       "    </tr>\n",
       "    <tr>\n",
       "      <th>model_1</th>\n",
       "      <td>0.010774</td>\n",
       "      <td>0.038198</td>\n",
       "    </tr>\n",
       "  </tbody>\n",
       "</table>\n",
       "</div>"
      ],
      "text/plain": [
       "           data_0    data_1\n",
       "model_0  0.705191  0.245837\n",
       "model_1  0.010774  0.038198"
      ]
     },
     "metadata": {},
     "output_type": "display_data"
    },
    {
     "data": {
      "text/html": [
       "<div>\n",
       "<style scoped>\n",
       "    .dataframe tbody tr th:only-of-type {\n",
       "        vertical-align: middle;\n",
       "    }\n",
       "\n",
       "    .dataframe tbody tr th {\n",
       "        vertical-align: top;\n",
       "    }\n",
       "\n",
       "    .dataframe thead th {\n",
       "        text-align: right;\n",
       "    }\n",
       "</style>\n",
       "<table border=\"1\" class=\"dataframe\">\n",
       "  <thead>\n",
       "    <tr style=\"text-align: right;\">\n",
       "      <th></th>\n",
       "      <th>data_0</th>\n",
       "      <th>data_1</th>\n",
       "    </tr>\n",
       "  </thead>\n",
       "  <tbody>\n",
       "    <tr>\n",
       "      <th>model_0</th>\n",
       "      <td>0.739471</td>\n",
       "      <td>0.212537</td>\n",
       "    </tr>\n",
       "    <tr>\n",
       "      <th>model_1</th>\n",
       "      <td>0.011753</td>\n",
       "      <td>0.036239</td>\n",
       "    </tr>\n",
       "  </tbody>\n",
       "</table>\n",
       "</div>"
      ],
      "text/plain": [
       "           data_0    data_1\n",
       "model_0  0.739471  0.212537\n",
       "model_1  0.011753  0.036239"
      ]
     },
     "metadata": {},
     "output_type": "display_data"
    }
   ],
   "source": [
    "# Display the confusion matrices for each fold:\n",
    "display(cf[0], cf[1], cf[2], cf[3], cf[4])"
   ]
  },
  {
   "cell_type": "code",
   "execution_count": 253,
   "id": "2ad02f0a",
   "metadata": {},
   "outputs": [
    {
     "data": {
      "text/html": [
       "<div>\n",
       "<style scoped>\n",
       "    .dataframe tbody tr th:only-of-type {\n",
       "        vertical-align: middle;\n",
       "    }\n",
       "\n",
       "    .dataframe tbody tr th {\n",
       "        vertical-align: top;\n",
       "    }\n",
       "\n",
       "    .dataframe thead th {\n",
       "        text-align: right;\n",
       "    }\n",
       "</style>\n",
       "<table border=\"1\" class=\"dataframe\">\n",
       "  <thead>\n",
       "    <tr style=\"text-align: right;\">\n",
       "      <th></th>\n",
       "      <th>Recall</th>\n",
       "      <th>Precision</th>\n",
       "      <th>F1-score</th>\n",
       "      <th>Accuracy</th>\n",
       "    </tr>\n",
       "  </thead>\n",
       "  <tbody>\n",
       "    <tr>\n",
       "      <th>0</th>\n",
       "      <td>0.74</td>\n",
       "      <td>0.135531</td>\n",
       "      <td>0.229102</td>\n",
       "      <td>0.75636</td>\n",
       "    </tr>\n",
       "    <tr>\n",
       "      <th>1</th>\n",
       "      <td>0.72</td>\n",
       "      <td>0.131387</td>\n",
       "      <td>0.222222</td>\n",
       "      <td>0.753425</td>\n",
       "    </tr>\n",
       "    <tr>\n",
       "      <th>2</th>\n",
       "      <td>0.78</td>\n",
       "      <td>0.127036</td>\n",
       "      <td>0.218487</td>\n",
       "      <td>0.726738</td>\n",
       "    </tr>\n",
       "    <tr>\n",
       "      <th>3</th>\n",
       "      <td>0.78</td>\n",
       "      <td>0.134483</td>\n",
       "      <td>0.229412</td>\n",
       "      <td>0.743389</td>\n",
       "    </tr>\n",
       "    <tr>\n",
       "      <th>4</th>\n",
       "      <td>0.755102</td>\n",
       "      <td>0.145669</td>\n",
       "      <td>0.244224</td>\n",
       "      <td>0.77571</td>\n",
       "    </tr>\n",
       "  </tbody>\n",
       "</table>\n",
       "</div>"
      ],
      "text/plain": [
       "     Recall Precision  F1-score  Accuracy\n",
       "0      0.74  0.135531  0.229102   0.75636\n",
       "1      0.72  0.131387  0.222222  0.753425\n",
       "2      0.78  0.127036  0.218487  0.726738\n",
       "3      0.78  0.134483  0.229412  0.743389\n",
       "4  0.755102  0.145669  0.244224   0.77571"
      ]
     },
     "execution_count": 253,
     "metadata": {},
     "output_type": "execute_result"
    }
   ],
   "source": [
    "# Display the metrics for every fold:\n",
    "metrics"
   ]
  },
  {
   "cell_type": "code",
   "execution_count": 254,
   "id": "22028caf",
   "metadata": {},
   "outputs": [
    {
     "name": "stdout",
     "output_type": "stream",
     "text": [
      "              precision    recall  f1-score   support\n",
      "\n",
      "           0       0.98      0.76      0.86       972\n",
      "           1       0.14      0.74      0.23        50\n",
      "\n",
      "    accuracy                           0.76      1022\n",
      "   macro avg       0.56      0.75      0.54      1022\n",
      "weighted avg       0.94      0.76      0.82      1022\n",
      "\n"
     ]
    }
   ],
   "source": [
    "# Classification report of the first fold:\n",
    "print(report[0])"
   ]
  },
  {
   "cell_type": "code",
   "execution_count": 255,
   "id": "f3f49f12",
   "metadata": {},
   "outputs": [
    {
     "data": {
      "image/png": "[encoded data removed]",
      "text/plain": [
       "<Figure size 1080x432 with 1 Axes>"
      ]
     },
     "metadata": {
      "needs_background": "light"
     },
     "output_type": "display_data"
    }
   ],
   "source": [
    "plt.figure(figsize=(15,6))\n",
    "sns.boxplot(data=this_metrics)\n",
    "plt.title(\"Logistic Regression\")\n",
    "plt.show()"
   ]
  },
  {
   "cell_type": "markdown",
   "id": "489d024c",
   "metadata": {},
   "source": [
    "## 3.3 Random Forest"
   ]
  },
  {
   "cell_type": "code",
   "execution_count": 256,
   "id": "fc4ee78a",
   "metadata": {},
   "outputs": [],
   "source": [
    "model = RandomForestClassifier(random_state=0)\n",
    "y_predicted, cf, metrics, report, process_times = calc_model(model, x_train_smote, y_train_smote, y_test)"
   ]
  },
  {
   "cell_type": "code",
   "execution_count": 257,
   "id": "44448f3a",
   "metadata": {},
   "outputs": [
    {
     "name": "stdout",
     "output_type": "stream",
     "text": [
      "Average process time: 0.875 s\n"
     ]
    }
   ],
   "source": [
    "print(\"Average process time: %4.3f s\"%np.mean(process_times))"
   ]
  },
  {
   "cell_type": "code",
   "execution_count": 258,
   "id": "b73319fe",
   "metadata": {},
   "outputs": [
    {
     "data": {
      "text/html": [
       "<div>\n",
       "<style scoped>\n",
       "    .dataframe tbody tr th:only-of-type {\n",
       "        vertical-align: middle;\n",
       "    }\n",
       "\n",
       "    .dataframe tbody tr th {\n",
       "        vertical-align: top;\n",
       "    }\n",
       "\n",
       "    .dataframe thead th {\n",
       "        text-align: right;\n",
       "    }\n",
       "</style>\n",
       "<table border=\"1\" class=\"dataframe\">\n",
       "  <thead>\n",
       "    <tr style=\"text-align: right;\">\n",
       "      <th></th>\n",
       "      <th>data_0</th>\n",
       "      <th>data_1</th>\n",
       "    </tr>\n",
       "  </thead>\n",
       "  <tbody>\n",
       "    <tr>\n",
       "      <th>model_0</th>\n",
       "      <td>0.855186</td>\n",
       "      <td>0.09589</td>\n",
       "    </tr>\n",
       "    <tr>\n",
       "      <th>model_1</th>\n",
       "      <td>0.037182</td>\n",
       "      <td>0.011742</td>\n",
       "    </tr>\n",
       "  </tbody>\n",
       "</table>\n",
       "</div>"
      ],
      "text/plain": [
       "           data_0    data_1\n",
       "model_0  0.855186   0.09589\n",
       "model_1  0.037182  0.011742"
      ]
     },
     "metadata": {},
     "output_type": "display_data"
    },
    {
     "data": {
      "text/html": [
       "<div>\n",
       "<style scoped>\n",
       "    .dataframe tbody tr th:only-of-type {\n",
       "        vertical-align: middle;\n",
       "    }\n",
       "\n",
       "    .dataframe tbody tr th {\n",
       "        vertical-align: top;\n",
       "    }\n",
       "\n",
       "    .dataframe thead th {\n",
       "        text-align: right;\n",
       "    }\n",
       "</style>\n",
       "<table border=\"1\" class=\"dataframe\">\n",
       "  <thead>\n",
       "    <tr style=\"text-align: right;\">\n",
       "      <th></th>\n",
       "      <th>data_0</th>\n",
       "      <th>data_1</th>\n",
       "    </tr>\n",
       "  </thead>\n",
       "  <tbody>\n",
       "    <tr>\n",
       "      <th>model_0</th>\n",
       "      <td>0.867906</td>\n",
       "      <td>0.08317</td>\n",
       "    </tr>\n",
       "    <tr>\n",
       "      <th>model_1</th>\n",
       "      <td>0.034247</td>\n",
       "      <td>0.014677</td>\n",
       "    </tr>\n",
       "  </tbody>\n",
       "</table>\n",
       "</div>"
      ],
      "text/plain": [
       "           data_0    data_1\n",
       "model_0  0.867906   0.08317\n",
       "model_1  0.034247  0.014677"
      ]
     },
     "metadata": {},
     "output_type": "display_data"
    },
    {
     "data": {
      "text/html": [
       "<div>\n",
       "<style scoped>\n",
       "    .dataframe tbody tr th:only-of-type {\n",
       "        vertical-align: middle;\n",
       "    }\n",
       "\n",
       "    .dataframe tbody tr th {\n",
       "        vertical-align: top;\n",
       "    }\n",
       "\n",
       "    .dataframe thead th {\n",
       "        text-align: right;\n",
       "    }\n",
       "</style>\n",
       "<table border=\"1\" class=\"dataframe\">\n",
       "  <thead>\n",
       "    <tr style=\"text-align: right;\">\n",
       "      <th></th>\n",
       "      <th>data_0</th>\n",
       "      <th>data_1</th>\n",
       "    </tr>\n",
       "  </thead>\n",
       "  <tbody>\n",
       "    <tr>\n",
       "      <th>model_0</th>\n",
       "      <td>0.836435</td>\n",
       "      <td>0.114594</td>\n",
       "    </tr>\n",
       "    <tr>\n",
       "      <th>model_1</th>\n",
       "      <td>0.033301</td>\n",
       "      <td>0.015671</td>\n",
       "    </tr>\n",
       "  </tbody>\n",
       "</table>\n",
       "</div>"
      ],
      "text/plain": [
       "           data_0    data_1\n",
       "model_0  0.836435  0.114594\n",
       "model_1  0.033301  0.015671"
      ]
     },
     "metadata": {},
     "output_type": "display_data"
    },
    {
     "data": {
      "text/html": [
       "<div>\n",
       "<style scoped>\n",
       "    .dataframe tbody tr th:only-of-type {\n",
       "        vertical-align: middle;\n",
       "    }\n",
       "\n",
       "    .dataframe tbody tr th {\n",
       "        vertical-align: top;\n",
       "    }\n",
       "\n",
       "    .dataframe thead th {\n",
       "        text-align: right;\n",
       "    }\n",
       "</style>\n",
       "<table border=\"1\" class=\"dataframe\">\n",
       "  <thead>\n",
       "    <tr style=\"text-align: right;\">\n",
       "      <th></th>\n",
       "      <th>data_0</th>\n",
       "      <th>data_1</th>\n",
       "    </tr>\n",
       "  </thead>\n",
       "  <tbody>\n",
       "    <tr>\n",
       "      <th>model_0</th>\n",
       "      <td>0.84427</td>\n",
       "      <td>0.106758</td>\n",
       "    </tr>\n",
       "    <tr>\n",
       "      <th>model_1</th>\n",
       "      <td>0.030362</td>\n",
       "      <td>0.018609</td>\n",
       "    </tr>\n",
       "  </tbody>\n",
       "</table>\n",
       "</div>"
      ],
      "text/plain": [
       "           data_0    data_1\n",
       "model_0   0.84427  0.106758\n",
       "model_1  0.030362  0.018609"
      ]
     },
     "metadata": {},
     "output_type": "display_data"
    },
    {
     "data": {
      "text/html": [
       "<div>\n",
       "<style scoped>\n",
       "    .dataframe tbody tr th:only-of-type {\n",
       "        vertical-align: middle;\n",
       "    }\n",
       "\n",
       "    .dataframe tbody tr th {\n",
       "        vertical-align: top;\n",
       "    }\n",
       "\n",
       "    .dataframe thead th {\n",
       "        text-align: right;\n",
       "    }\n",
       "</style>\n",
       "<table border=\"1\" class=\"dataframe\">\n",
       "  <thead>\n",
       "    <tr style=\"text-align: right;\">\n",
       "      <th></th>\n",
       "      <th>data_0</th>\n",
       "      <th>data_1</th>\n",
       "    </tr>\n",
       "  </thead>\n",
       "  <tbody>\n",
       "    <tr>\n",
       "      <th>model_0</th>\n",
       "      <td>0.854065</td>\n",
       "      <td>0.097943</td>\n",
       "    </tr>\n",
       "    <tr>\n",
       "      <th>model_1</th>\n",
       "      <td>0.03526</td>\n",
       "      <td>0.012733</td>\n",
       "    </tr>\n",
       "  </tbody>\n",
       "</table>\n",
       "</div>"
      ],
      "text/plain": [
       "           data_0    data_1\n",
       "model_0  0.854065  0.097943\n",
       "model_1   0.03526  0.012733"
      ]
     },
     "metadata": {},
     "output_type": "display_data"
    }
   ],
   "source": [
    "# Display the confusion matrices for each fold:\n",
    "display(cf[0], cf[1], cf[2], cf[3], cf[4])"
   ]
  },
  {
   "cell_type": "code",
   "execution_count": 259,
   "id": "7dd02ac4",
   "metadata": {},
   "outputs": [
    {
     "data": {
      "text/html": [
       "<div>\n",
       "<style scoped>\n",
       "    .dataframe tbody tr th:only-of-type {\n",
       "        vertical-align: middle;\n",
       "    }\n",
       "\n",
       "    .dataframe tbody tr th {\n",
       "        vertical-align: top;\n",
       "    }\n",
       "\n",
       "    .dataframe thead th {\n",
       "        text-align: right;\n",
       "    }\n",
       "</style>\n",
       "<table border=\"1\" class=\"dataframe\">\n",
       "  <thead>\n",
       "    <tr style=\"text-align: right;\">\n",
       "      <th></th>\n",
       "      <th>Recall</th>\n",
       "      <th>Precision</th>\n",
       "      <th>F1-score</th>\n",
       "      <th>Accuracy</th>\n",
       "    </tr>\n",
       "  </thead>\n",
       "  <tbody>\n",
       "    <tr>\n",
       "      <th>0</th>\n",
       "      <td>0.24</td>\n",
       "      <td>0.109091</td>\n",
       "      <td>0.15</td>\n",
       "      <td>0.866928</td>\n",
       "    </tr>\n",
       "    <tr>\n",
       "      <th>1</th>\n",
       "      <td>0.3</td>\n",
       "      <td>0.15</td>\n",
       "      <td>0.2</td>\n",
       "      <td>0.882583</td>\n",
       "    </tr>\n",
       "    <tr>\n",
       "      <th>2</th>\n",
       "      <td>0.32</td>\n",
       "      <td>0.120301</td>\n",
       "      <td>0.174863</td>\n",
       "      <td>0.852106</td>\n",
       "    </tr>\n",
       "    <tr>\n",
       "      <th>3</th>\n",
       "      <td>0.38</td>\n",
       "      <td>0.148438</td>\n",
       "      <td>0.213483</td>\n",
       "      <td>0.86288</td>\n",
       "    </tr>\n",
       "    <tr>\n",
       "      <th>4</th>\n",
       "      <td>0.265306</td>\n",
       "      <td>0.115044</td>\n",
       "      <td>0.160494</td>\n",
       "      <td>0.866797</td>\n",
       "    </tr>\n",
       "  </tbody>\n",
       "</table>\n",
       "</div>"
      ],
      "text/plain": [
       "     Recall Precision  F1-score  Accuracy\n",
       "0      0.24  0.109091      0.15  0.866928\n",
       "1       0.3      0.15       0.2  0.882583\n",
       "2      0.32  0.120301  0.174863  0.852106\n",
       "3      0.38  0.148438  0.213483   0.86288\n",
       "4  0.265306  0.115044  0.160494  0.866797"
      ]
     },
     "execution_count": 259,
     "metadata": {},
     "output_type": "execute_result"
    }
   ],
   "source": [
    "# Display the metrics for every fold:\n",
    "metrics"
   ]
  },
  {
   "cell_type": "code",
   "execution_count": 260,
   "id": "fde87d46",
   "metadata": {},
   "outputs": [
    {
     "name": "stdout",
     "output_type": "stream",
     "text": [
      "              precision    recall  f1-score   support\n",
      "\n",
      "           0       0.98      0.76      0.86       972\n",
      "           1       0.14      0.74      0.23        50\n",
      "\n",
      "    accuracy                           0.76      1022\n",
      "   macro avg       0.56      0.75      0.54      1022\n",
      "weighted avg       0.94      0.76      0.82      1022\n",
      "\n"
     ]
    }
   ],
   "source": [
    "# Classification report of the first fold:\n",
    "print(report[0])"
   ]
  },
  {
   "cell_type": "code",
   "execution_count": 261,
   "id": "9b584ccb",
   "metadata": {},
   "outputs": [
    {
     "data": {
      "image/png": "[encoded data removed]",
      "text/plain": [
       "<Figure size 1080x432 with 1 Axes>"
      ]
     },
     "metadata": {
      "needs_background": "light"
     },
     "output_type": "display_data"
    }
   ],
   "source": [
    "plt.figure(figsize=(15,6))\n",
    "sns.boxplot(data=this_metrics)\n",
    "plt.title(\"Random Forest\")\n",
    "plt.show()"
   ]
  },
  {
   "cell_type": "markdown",
   "id": "1e9af44f",
   "metadata": {},
   "source": [
    "## 3.4 Multi-Layer Perceptron"
   ]
  },
  {
   "cell_type": "code",
   "execution_count": 262,
   "id": "061c50e4",
   "metadata": {},
   "outputs": [],
   "source": [
    "model = MLPClassifier(hidden_layer_sizes=(20,10), max_iter=1000, random_state=0)\n",
    "y_predicted, cf, metrics, report, process_times = calc_model(model, x_train_smote, y_train_smote, y_test)"
   ]
  },
  {
   "cell_type": "code",
   "execution_count": 263,
   "id": "2f61f7fd",
   "metadata": {},
   "outputs": [
    {
     "name": "stdout",
     "output_type": "stream",
     "text": [
      "Average process time: 33.169 s\n"
     ]
    }
   ],
   "source": [
    "print(\"Average process time: %4.3f s\"%np.mean(process_times))"
   ]
  },
  {
   "cell_type": "code",
   "execution_count": 264,
   "id": "ebcb929a",
   "metadata": {},
   "outputs": [
    {
     "data": {
      "text/html": [
       "<div>\n",
       "<style scoped>\n",
       "    .dataframe tbody tr th:only-of-type {\n",
       "        vertical-align: middle;\n",
       "    }\n",
       "\n",
       "    .dataframe tbody tr th {\n",
       "        vertical-align: top;\n",
       "    }\n",
       "\n",
       "    .dataframe thead th {\n",
       "        text-align: right;\n",
       "    }\n",
       "</style>\n",
       "<table border=\"1\" class=\"dataframe\">\n",
       "  <thead>\n",
       "    <tr style=\"text-align: right;\">\n",
       "      <th></th>\n",
       "      <th>data_0</th>\n",
       "      <th>data_1</th>\n",
       "    </tr>\n",
       "  </thead>\n",
       "  <tbody>\n",
       "    <tr>\n",
       "      <th>model_0</th>\n",
       "      <td>0.772994</td>\n",
       "      <td>0.178082</td>\n",
       "    </tr>\n",
       "    <tr>\n",
       "      <th>model_1</th>\n",
       "      <td>0.026419</td>\n",
       "      <td>0.022505</td>\n",
       "    </tr>\n",
       "  </tbody>\n",
       "</table>\n",
       "</div>"
      ],
      "text/plain": [
       "           data_0    data_1\n",
       "model_0  0.772994  0.178082\n",
       "model_1  0.026419  0.022505"
      ]
     },
     "metadata": {},
     "output_type": "display_data"
    },
    {
     "data": {
      "text/html": [
       "<div>\n",
       "<style scoped>\n",
       "    .dataframe tbody tr th:only-of-type {\n",
       "        vertical-align: middle;\n",
       "    }\n",
       "\n",
       "    .dataframe tbody tr th {\n",
       "        vertical-align: top;\n",
       "    }\n",
       "\n",
       "    .dataframe thead th {\n",
       "        text-align: right;\n",
       "    }\n",
       "</style>\n",
       "<table border=\"1\" class=\"dataframe\">\n",
       "  <thead>\n",
       "    <tr style=\"text-align: right;\">\n",
       "      <th></th>\n",
       "      <th>data_0</th>\n",
       "      <th>data_1</th>\n",
       "    </tr>\n",
       "  </thead>\n",
       "  <tbody>\n",
       "    <tr>\n",
       "      <th>model_0</th>\n",
       "      <td>0.799413</td>\n",
       "      <td>0.151663</td>\n",
       "    </tr>\n",
       "    <tr>\n",
       "      <th>model_1</th>\n",
       "      <td>0.026419</td>\n",
       "      <td>0.022505</td>\n",
       "    </tr>\n",
       "  </tbody>\n",
       "</table>\n",
       "</div>"
      ],
      "text/plain": [
       "           data_0    data_1\n",
       "model_0  0.799413  0.151663\n",
       "model_1  0.026419  0.022505"
      ]
     },
     "metadata": {},
     "output_type": "display_data"
    },
    {
     "data": {
      "text/html": [
       "<div>\n",
       "<style scoped>\n",
       "    .dataframe tbody tr th:only-of-type {\n",
       "        vertical-align: middle;\n",
       "    }\n",
       "\n",
       "    .dataframe tbody tr th {\n",
       "        vertical-align: top;\n",
       "    }\n",
       "\n",
       "    .dataframe thead th {\n",
       "        text-align: right;\n",
       "    }\n",
       "</style>\n",
       "<table border=\"1\" class=\"dataframe\">\n",
       "  <thead>\n",
       "    <tr style=\"text-align: right;\">\n",
       "      <th></th>\n",
       "      <th>data_0</th>\n",
       "      <th>data_1</th>\n",
       "    </tr>\n",
       "  </thead>\n",
       "  <tbody>\n",
       "    <tr>\n",
       "      <th>model_0</th>\n",
       "      <td>0.755142</td>\n",
       "      <td>0.195886</td>\n",
       "    </tr>\n",
       "    <tr>\n",
       "      <th>model_1</th>\n",
       "      <td>0.027424</td>\n",
       "      <td>0.021548</td>\n",
       "    </tr>\n",
       "  </tbody>\n",
       "</table>\n",
       "</div>"
      ],
      "text/plain": [
       "           data_0    data_1\n",
       "model_0  0.755142  0.195886\n",
       "model_1  0.027424  0.021548"
      ]
     },
     "metadata": {},
     "output_type": "display_data"
    },
    {
     "data": {
      "text/html": [
       "<div>\n",
       "<style scoped>\n",
       "    .dataframe tbody tr th:only-of-type {\n",
       "        vertical-align: middle;\n",
       "    }\n",
       "\n",
       "    .dataframe tbody tr th {\n",
       "        vertical-align: top;\n",
       "    }\n",
       "\n",
       "    .dataframe thead th {\n",
       "        text-align: right;\n",
       "    }\n",
       "</style>\n",
       "<table border=\"1\" class=\"dataframe\">\n",
       "  <thead>\n",
       "    <tr style=\"text-align: right;\">\n",
       "      <th></th>\n",
       "      <th>data_0</th>\n",
       "      <th>data_1</th>\n",
       "    </tr>\n",
       "  </thead>\n",
       "  <tbody>\n",
       "    <tr>\n",
       "      <th>model_0</th>\n",
       "      <td>0.746327</td>\n",
       "      <td>0.204701</td>\n",
       "    </tr>\n",
       "    <tr>\n",
       "      <th>model_1</th>\n",
       "      <td>0.018609</td>\n",
       "      <td>0.030362</td>\n",
       "    </tr>\n",
       "  </tbody>\n",
       "</table>\n",
       "</div>"
      ],
      "text/plain": [
       "           data_0    data_1\n",
       "model_0  0.746327  0.204701\n",
       "model_1  0.018609  0.030362"
      ]
     },
     "metadata": {},
     "output_type": "display_data"
    },
    {
     "data": {
      "text/html": [
       "<div>\n",
       "<style scoped>\n",
       "    .dataframe tbody tr th:only-of-type {\n",
       "        vertical-align: middle;\n",
       "    }\n",
       "\n",
       "    .dataframe tbody tr th {\n",
       "        vertical-align: top;\n",
       "    }\n",
       "\n",
       "    .dataframe thead th {\n",
       "        text-align: right;\n",
       "    }\n",
       "</style>\n",
       "<table border=\"1\" class=\"dataframe\">\n",
       "  <thead>\n",
       "    <tr style=\"text-align: right;\">\n",
       "      <th></th>\n",
       "      <th>data_0</th>\n",
       "      <th>data_1</th>\n",
       "    </tr>\n",
       "  </thead>\n",
       "  <tbody>\n",
       "    <tr>\n",
       "      <th>model_0</th>\n",
       "      <td>0.809011</td>\n",
       "      <td>0.142997</td>\n",
       "    </tr>\n",
       "    <tr>\n",
       "      <th>model_1</th>\n",
       "      <td>0.029383</td>\n",
       "      <td>0.018609</td>\n",
       "    </tr>\n",
       "  </tbody>\n",
       "</table>\n",
       "</div>"
      ],
      "text/plain": [
       "           data_0    data_1\n",
       "model_0  0.809011  0.142997\n",
       "model_1  0.029383  0.018609"
      ]
     },
     "metadata": {},
     "output_type": "display_data"
    }
   ],
   "source": [
    "# Display the confusion matrices for each fold:\n",
    "display(cf[0], cf[1], cf[2], cf[3], cf[4])"
   ]
  },
  {
   "cell_type": "code",
   "execution_count": 265,
   "id": "b21a21b3",
   "metadata": {},
   "outputs": [
    {
     "data": {
      "text/html": [
       "<div>\n",
       "<style scoped>\n",
       "    .dataframe tbody tr th:only-of-type {\n",
       "        vertical-align: middle;\n",
       "    }\n",
       "\n",
       "    .dataframe tbody tr th {\n",
       "        vertical-align: top;\n",
       "    }\n",
       "\n",
       "    .dataframe thead th {\n",
       "        text-align: right;\n",
       "    }\n",
       "</style>\n",
       "<table border=\"1\" class=\"dataframe\">\n",
       "  <thead>\n",
       "    <tr style=\"text-align: right;\">\n",
       "      <th></th>\n",
       "      <th>Recall</th>\n",
       "      <th>Precision</th>\n",
       "      <th>F1-score</th>\n",
       "      <th>Accuracy</th>\n",
       "    </tr>\n",
       "  </thead>\n",
       "  <tbody>\n",
       "    <tr>\n",
       "      <th>0</th>\n",
       "      <td>0.46</td>\n",
       "      <td>0.112195</td>\n",
       "      <td>0.180392</td>\n",
       "      <td>0.795499</td>\n",
       "    </tr>\n",
       "    <tr>\n",
       "      <th>1</th>\n",
       "      <td>0.46</td>\n",
       "      <td>0.129213</td>\n",
       "      <td>0.201754</td>\n",
       "      <td>0.821918</td>\n",
       "    </tr>\n",
       "    <tr>\n",
       "      <th>2</th>\n",
       "      <td>0.44</td>\n",
       "      <td>0.099099</td>\n",
       "      <td>0.161765</td>\n",
       "      <td>0.77669</td>\n",
       "    </tr>\n",
       "    <tr>\n",
       "      <th>3</th>\n",
       "      <td>0.62</td>\n",
       "      <td>0.129167</td>\n",
       "      <td>0.213793</td>\n",
       "      <td>0.77669</td>\n",
       "    </tr>\n",
       "    <tr>\n",
       "      <th>4</th>\n",
       "      <td>0.387755</td>\n",
       "      <td>0.115152</td>\n",
       "      <td>0.17757</td>\n",
       "      <td>0.82762</td>\n",
       "    </tr>\n",
       "  </tbody>\n",
       "</table>\n",
       "</div>"
      ],
      "text/plain": [
       "     Recall Precision  F1-score  Accuracy\n",
       "0      0.46  0.112195  0.180392  0.795499\n",
       "1      0.46  0.129213  0.201754  0.821918\n",
       "2      0.44  0.099099  0.161765   0.77669\n",
       "3      0.62  0.129167  0.213793   0.77669\n",
       "4  0.387755  0.115152   0.17757   0.82762"
      ]
     },
     "execution_count": 265,
     "metadata": {},
     "output_type": "execute_result"
    }
   ],
   "source": [
    "# Display the metrics for every fold:\n",
    "metrics"
   ]
  },
  {
   "cell_type": "code",
   "execution_count": 266,
   "id": "edcbe9ea",
   "metadata": {},
   "outputs": [
    {
     "name": "stdout",
     "output_type": "stream",
     "text": [
      "              precision    recall  f1-score   support\n",
      "\n",
      "           0       0.98      0.76      0.86       972\n",
      "           1       0.14      0.74      0.23        50\n",
      "\n",
      "    accuracy                           0.76      1022\n",
      "   macro avg       0.56      0.75      0.54      1022\n",
      "weighted avg       0.94      0.76      0.82      1022\n",
      "\n"
     ]
    }
   ],
   "source": [
    "# Classification report of the first fold:\n",
    "print(report[0])"
   ]
  },
  {
   "cell_type": "code",
   "execution_count": 267,
   "id": "daa767df",
   "metadata": {},
   "outputs": [
    {
     "data": {
      "image/png": "[encoded data removed]",
      "text/plain": [
       "<Figure size 1080x432 with 1 Axes>"
      ]
     },
     "metadata": {
      "needs_background": "light"
     },
     "output_type": "display_data"
    }
   ],
   "source": [
    "plt.figure(figsize=(15,6))\n",
    "sns.boxplot(data=this_metrics)\n",
    "plt.title(\"Multi-Layer Perceptron\")\n",
    "plt.show()"
   ]
  },
  {
   "cell_type": "markdown",
   "id": "2cc0be2c",
   "metadata": {},
   "source": [
    "## 3.5 Support-Vector Classification"
   ]
  },
  {
   "cell_type": "code",
   "execution_count": 268,
   "id": "979f67f7",
   "metadata": {},
   "outputs": [],
   "source": [
    "model = SVC(C=1.0, kernel='linear', class_weight='balanced')\n",
    "y_predicted, cf, metrics, report, process_times = calc_model(model, x_train_smote, y_train_smote, y_test)"
   ]
  },
  {
   "cell_type": "code",
   "execution_count": 269,
   "id": "e16e5bdf",
   "metadata": {},
   "outputs": [
    {
     "name": "stdout",
     "output_type": "stream",
     "text": [
      "Average process time: 1.994 s\n"
     ]
    }
   ],
   "source": [
    "print(\"Average process time: %4.3f s\"%np.mean(process_times))"
   ]
  },
  {
   "cell_type": "code",
   "execution_count": 270,
   "id": "393db743",
   "metadata": {},
   "outputs": [
    {
     "data": {
      "text/html": [
       "<div>\n",
       "<style scoped>\n",
       "    .dataframe tbody tr th:only-of-type {\n",
       "        vertical-align: middle;\n",
       "    }\n",
       "\n",
       "    .dataframe tbody tr th {\n",
       "        vertical-align: top;\n",
       "    }\n",
       "\n",
       "    .dataframe thead th {\n",
       "        text-align: right;\n",
       "    }\n",
       "</style>\n",
       "<table border=\"1\" class=\"dataframe\">\n",
       "  <thead>\n",
       "    <tr style=\"text-align: right;\">\n",
       "      <th></th>\n",
       "      <th>data_0</th>\n",
       "      <th>data_1</th>\n",
       "    </tr>\n",
       "  </thead>\n",
       "  <tbody>\n",
       "    <tr>\n",
       "      <th>model_0</th>\n",
       "      <td>0.702544</td>\n",
       "      <td>0.248532</td>\n",
       "    </tr>\n",
       "    <tr>\n",
       "      <th>model_1</th>\n",
       "      <td>0.006849</td>\n",
       "      <td>0.042074</td>\n",
       "    </tr>\n",
       "  </tbody>\n",
       "</table>\n",
       "</div>"
      ],
      "text/plain": [
       "           data_0    data_1\n",
       "model_0  0.702544  0.248532\n",
       "model_1  0.006849  0.042074"
      ]
     },
     "metadata": {},
     "output_type": "display_data"
    },
    {
     "data": {
      "text/html": [
       "<div>\n",
       "<style scoped>\n",
       "    .dataframe tbody tr th:only-of-type {\n",
       "        vertical-align: middle;\n",
       "    }\n",
       "\n",
       "    .dataframe tbody tr th {\n",
       "        vertical-align: top;\n",
       "    }\n",
       "\n",
       "    .dataframe thead th {\n",
       "        text-align: right;\n",
       "    }\n",
       "</style>\n",
       "<table border=\"1\" class=\"dataframe\">\n",
       "  <thead>\n",
       "    <tr style=\"text-align: right;\">\n",
       "      <th></th>\n",
       "      <th>data_0</th>\n",
       "      <th>data_1</th>\n",
       "    </tr>\n",
       "  </thead>\n",
       "  <tbody>\n",
       "    <tr>\n",
       "      <th>model_0</th>\n",
       "      <td>0.69863</td>\n",
       "      <td>0.252446</td>\n",
       "    </tr>\n",
       "    <tr>\n",
       "      <th>model_1</th>\n",
       "      <td>0.011742</td>\n",
       "      <td>0.037182</td>\n",
       "    </tr>\n",
       "  </tbody>\n",
       "</table>\n",
       "</div>"
      ],
      "text/plain": [
       "           data_0    data_1\n",
       "model_0   0.69863  0.252446\n",
       "model_1  0.011742  0.037182"
      ]
     },
     "metadata": {},
     "output_type": "display_data"
    },
    {
     "data": {
      "text/html": [
       "<div>\n",
       "<style scoped>\n",
       "    .dataframe tbody tr th:only-of-type {\n",
       "        vertical-align: middle;\n",
       "    }\n",
       "\n",
       "    .dataframe tbody tr th {\n",
       "        vertical-align: top;\n",
       "    }\n",
       "\n",
       "    .dataframe thead th {\n",
       "        text-align: right;\n",
       "    }\n",
       "</style>\n",
       "<table border=\"1\" class=\"dataframe\">\n",
       "  <thead>\n",
       "    <tr style=\"text-align: right;\">\n",
       "      <th></th>\n",
       "      <th>data_0</th>\n",
       "      <th>data_1</th>\n",
       "    </tr>\n",
       "  </thead>\n",
       "  <tbody>\n",
       "    <tr>\n",
       "      <th>model_0</th>\n",
       "      <td>0.669931</td>\n",
       "      <td>0.281097</td>\n",
       "    </tr>\n",
       "    <tr>\n",
       "      <th>model_1</th>\n",
       "      <td>0.008815</td>\n",
       "      <td>0.040157</td>\n",
       "    </tr>\n",
       "  </tbody>\n",
       "</table>\n",
       "</div>"
      ],
      "text/plain": [
       "           data_0    data_1\n",
       "model_0  0.669931  0.281097\n",
       "model_1  0.008815  0.040157"
      ]
     },
     "metadata": {},
     "output_type": "display_data"
    },
    {
     "data": {
      "text/html": [
       "<div>\n",
       "<style scoped>\n",
       "    .dataframe tbody tr th:only-of-type {\n",
       "        vertical-align: middle;\n",
       "    }\n",
       "\n",
       "    .dataframe tbody tr th {\n",
       "        vertical-align: top;\n",
       "    }\n",
       "\n",
       "    .dataframe thead th {\n",
       "        text-align: right;\n",
       "    }\n",
       "</style>\n",
       "<table border=\"1\" class=\"dataframe\">\n",
       "  <thead>\n",
       "    <tr style=\"text-align: right;\">\n",
       "      <th></th>\n",
       "      <th>data_0</th>\n",
       "      <th>data_1</th>\n",
       "    </tr>\n",
       "  </thead>\n",
       "  <tbody>\n",
       "    <tr>\n",
       "      <th>model_0</th>\n",
       "      <td>0.68952</td>\n",
       "      <td>0.261508</td>\n",
       "    </tr>\n",
       "    <tr>\n",
       "      <th>model_1</th>\n",
       "      <td>0.008815</td>\n",
       "      <td>0.040157</td>\n",
       "    </tr>\n",
       "  </tbody>\n",
       "</table>\n",
       "</div>"
      ],
      "text/plain": [
       "           data_0    data_1\n",
       "model_0   0.68952  0.261508\n",
       "model_1  0.008815  0.040157"
      ]
     },
     "metadata": {},
     "output_type": "display_data"
    },
    {
     "data": {
      "text/html": [
       "<div>\n",
       "<style scoped>\n",
       "    .dataframe tbody tr th:only-of-type {\n",
       "        vertical-align: middle;\n",
       "    }\n",
       "\n",
       "    .dataframe tbody tr th {\n",
       "        vertical-align: top;\n",
       "    }\n",
       "\n",
       "    .dataframe thead th {\n",
       "        text-align: right;\n",
       "    }\n",
       "</style>\n",
       "<table border=\"1\" class=\"dataframe\">\n",
       "  <thead>\n",
       "    <tr style=\"text-align: right;\">\n",
       "      <th></th>\n",
       "      <th>data_0</th>\n",
       "      <th>data_1</th>\n",
       "    </tr>\n",
       "  </thead>\n",
       "  <tbody>\n",
       "    <tr>\n",
       "      <th>model_0</th>\n",
       "      <td>0.716944</td>\n",
       "      <td>0.235064</td>\n",
       "    </tr>\n",
       "    <tr>\n",
       "      <th>model_1</th>\n",
       "      <td>0.009794</td>\n",
       "      <td>0.038198</td>\n",
       "    </tr>\n",
       "  </tbody>\n",
       "</table>\n",
       "</div>"
      ],
      "text/plain": [
       "           data_0    data_1\n",
       "model_0  0.716944  0.235064\n",
       "model_1  0.009794  0.038198"
      ]
     },
     "metadata": {},
     "output_type": "display_data"
    }
   ],
   "source": [
    "# Display the confusion matrices for each fold:\n",
    "display(cf[0], cf[1], cf[2], cf[3], cf[4])"
   ]
  },
  {
   "cell_type": "code",
   "execution_count": 271,
   "id": "3c907e9a",
   "metadata": {},
   "outputs": [
    {
     "data": {
      "text/html": [
       "<div>\n",
       "<style scoped>\n",
       "    .dataframe tbody tr th:only-of-type {\n",
       "        vertical-align: middle;\n",
       "    }\n",
       "\n",
       "    .dataframe tbody tr th {\n",
       "        vertical-align: top;\n",
       "    }\n",
       "\n",
       "    .dataframe thead th {\n",
       "        text-align: right;\n",
       "    }\n",
       "</style>\n",
       "<table border=\"1\" class=\"dataframe\">\n",
       "  <thead>\n",
       "    <tr style=\"text-align: right;\">\n",
       "      <th></th>\n",
       "      <th>Recall</th>\n",
       "      <th>Precision</th>\n",
       "      <th>F1-score</th>\n",
       "      <th>Accuracy</th>\n",
       "    </tr>\n",
       "  </thead>\n",
       "  <tbody>\n",
       "    <tr>\n",
       "      <th>0</th>\n",
       "      <td>0.86</td>\n",
       "      <td>0.144781</td>\n",
       "      <td>0.247839</td>\n",
       "      <td>0.744618</td>\n",
       "    </tr>\n",
       "    <tr>\n",
       "      <th>1</th>\n",
       "      <td>0.76</td>\n",
       "      <td>0.128378</td>\n",
       "      <td>0.219653</td>\n",
       "      <td>0.735812</td>\n",
       "    </tr>\n",
       "    <tr>\n",
       "      <th>2</th>\n",
       "      <td>0.82</td>\n",
       "      <td>0.125</td>\n",
       "      <td>0.216931</td>\n",
       "      <td>0.710088</td>\n",
       "    </tr>\n",
       "    <tr>\n",
       "      <th>3</th>\n",
       "      <td>0.82</td>\n",
       "      <td>0.133117</td>\n",
       "      <td>0.22905</td>\n",
       "      <td>0.729677</td>\n",
       "    </tr>\n",
       "    <tr>\n",
       "      <th>4</th>\n",
       "      <td>0.795918</td>\n",
       "      <td>0.139785</td>\n",
       "      <td>0.237805</td>\n",
       "      <td>0.755142</td>\n",
       "    </tr>\n",
       "  </tbody>\n",
       "</table>\n",
       "</div>"
      ],
      "text/plain": [
       "     Recall Precision  F1-score  Accuracy\n",
       "0      0.86  0.144781  0.247839  0.744618\n",
       "1      0.76  0.128378  0.219653  0.735812\n",
       "2      0.82     0.125  0.216931  0.710088\n",
       "3      0.82  0.133117   0.22905  0.729677\n",
       "4  0.795918  0.139785  0.237805  0.755142"
      ]
     },
     "execution_count": 271,
     "metadata": {},
     "output_type": "execute_result"
    }
   ],
   "source": [
    "# Display the metrics for every fold:\n",
    "metrics"
   ]
  },
  {
   "cell_type": "code",
   "execution_count": 272,
   "id": "1af10f4c",
   "metadata": {},
   "outputs": [
    {
     "name": "stdout",
     "output_type": "stream",
     "text": [
      "              precision    recall  f1-score   support\n",
      "\n",
      "           0       0.98      0.76      0.86       972\n",
      "           1       0.14      0.74      0.23        50\n",
      "\n",
      "    accuracy                           0.76      1022\n",
      "   macro avg       0.56      0.75      0.54      1022\n",
      "weighted avg       0.94      0.76      0.82      1022\n",
      "\n"
     ]
    }
   ],
   "source": [
    "# Classification report of the first fold:\n",
    "print(report[0])"
   ]
  },
  {
   "cell_type": "code",
   "execution_count": 273,
   "id": "dd6417a7",
   "metadata": {},
   "outputs": [
    {
     "data": {
      "image/png": "[encoded data removed]",
      "text/plain": [
       "<Figure size 1080x432 with 1 Axes>"
      ]
     },
     "metadata": {
      "needs_background": "light"
     },
     "output_type": "display_data"
    }
   ],
   "source": [
    "plt.figure(figsize=(15,6))\n",
    "sns.boxplot(data=metrics)\n",
    "plt.title(\"Support-Vector Classification\")\n",
    "plt.show()"
   ]
  },
  {
   "cell_type": "code",
   "execution_count": null,
   "id": "84b3a34b",
   "metadata": {},
   "outputs": [],
   "source": []
  },
  {
   "cell_type": "code",
   "execution_count": null,
   "id": "f0c59360",
   "metadata": {},
   "outputs": [],
   "source": []
  },
  {
   "cell_type": "code",
   "execution_count": null,
   "id": "d29a4be8",
   "metadata": {},
   "outputs": [],
   "source": []
  },
  {
   "cell_type": "code",
   "execution_count": null,
   "id": "787f4cf3",
   "metadata": {},
   "outputs": [],
   "source": []
  },
  {
   "cell_type": "code",
   "execution_count": null,
   "id": "ac728454",
   "metadata": {},
   "outputs": [],
   "source": []
  },
  {
   "cell_type": "code",
   "execution_count": null,
   "id": "17a7c502",
   "metadata": {},
   "outputs": [],
   "source": []
  },
  {
   "cell_type": "code",
   "execution_count": null,
   "id": "98744810",
   "metadata": {},
   "outputs": [],
   "source": []
  },
  {
   "cell_type": "code",
   "execution_count": null,
   "id": "69a13549",
   "metadata": {},
   "outputs": [],
   "source": []
  },
  {
   "cell_type": "code",
   "execution_count": null,
   "id": "8e370d6a",
   "metadata": {},
   "outputs": [],
   "source": []
  },
  {
   "cell_type": "code",
   "execution_count": null,
   "id": "36d3a25b",
   "metadata": {},
   "outputs": [],
   "source": []
  },
  {
   "cell_type": "code",
   "execution_count": null,
   "id": "13d2d063",
   "metadata": {},
   "outputs": [],
   "source": []
  }
 ],
 "metadata": {
  "kernelspec": {
   "display_name": "Python 3 (ipykernel)",
   "language": "python",
   "name": "python3"
  },
  "language_info": {
   "codemirror_mode": {
    "name": "ipython",
    "version": 3
   },
   "file_extension": ".py",
   "mimetype": "text/x-python",
   "name": "python",
   "nbconvert_exporter": "python",
   "pygments_lexer": "ipython3",
   "version": "3.9.12"
  }
 },
 "nbformat": 4,
 "nbformat_minor": 5
}
